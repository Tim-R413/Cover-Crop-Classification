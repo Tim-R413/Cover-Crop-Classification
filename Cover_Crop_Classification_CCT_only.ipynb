{
  "nbformat": 4,
  "nbformat_minor": 0,
  "metadata": {
    "colab": {
      "name": "Cover Crop Classification - CCT only ",
      "version": "0.3.2",
      "provenance": [],
      "collapsed_sections": [],
      "include_colab_link": true
    },
    "kernelspec": {
      "name": "python3",
      "display_name": "Python 3"
    },
    "accelerator": "GPU"
  },
  "cells": [
    {
      "cell_type": "markdown",
      "metadata": {
        "id": "view-in-github",
        "colab_type": "text"
      },
      "source": [
        "<a href=\"https://colab.research.google.com/github/Tim-R413/Cover-Crop-Classification/blob/master/Cover_Crop_Classification_CCT_only.ipynb\" target=\"_parent\"><img src=\"https://colab.research.google.com/assets/colab-badge.svg\" alt=\"Open In Colab\"/></a>"
      ]
    },
    {
      "cell_type": "markdown",
      "metadata": {
        "id": "K7YXyISy_Hhu",
        "colab_type": "text"
      },
      "source": [
        "###Preparation:"
      ]
    },
    {
      "cell_type": "code",
      "metadata": {
        "id": "W9JrjqQ9ylLu",
        "colab_type": "code",
        "outputId": "83ad9f87-fee3-482e-8600-54e58825208a",
        "colab": {
          "base_uri": "https://localhost:8080/",
          "height": 51
        }
      },
      "source": [
        "\n",
        "% cd /content\n",
        "%rm -rf Cover-Crop-Classification\n",
        "#!pwd\n",
        "!ls"
      ],
      "execution_count": 0,
      "outputs": [
        {
          "output_type": "stream",
          "text": [
            "/content\n",
            "sample_data\n"
          ],
          "name": "stdout"
        }
      ]
    },
    {
      "cell_type": "markdown",
      "metadata": {
        "id": "VgtuhLm4Rcdy",
        "colab_type": "text"
      },
      "source": [
        ""
      ]
    },
    {
      "cell_type": "code",
      "metadata": {
        "id": "XBGPe0Zrjh2F",
        "colab_type": "code",
        "colab": {}
      },
      "source": [
        ""
      ],
      "execution_count": 0,
      "outputs": []
    },
    {
      "cell_type": "markdown",
      "metadata": {
        "id": "nPkRK1cEjwuy",
        "colab_type": "text"
      },
      "source": [
        "# Cover Crop Classification using Tensorflow-Data Preprocessing and Model Framing \n"
      ]
    },
    {
      "cell_type": "markdown",
      "metadata": {
        "id": "FDyA3tKVj9YA",
        "colab_type": "text"
      },
      "source": [
        "\n",
        "\n",
        "> This is a Google Colab notebook containing the Machine Learning model of an image classfier created to identify species of Cover Crops and more specifically, Canola, Clover, and Triticale.\n",
        "\n"
      ]
    },
    {
      "cell_type": "code",
      "metadata": {
        "id": "5fV6ZHgxqoar",
        "colab_type": "code",
        "colab": {}
      },
      "source": [
        "PIXEL_resolution = 16\n"
      ],
      "execution_count": 0,
      "outputs": []
    },
    {
      "cell_type": "markdown",
      "metadata": {
        "id": "GCfeftiH--bt",
        "colab_type": "text"
      },
      "source": [
        "##Setup:"
      ]
    },
    {
      "cell_type": "code",
      "metadata": {
        "id": "TkoKno5ypyqy",
        "colab_type": "code",
        "outputId": "36f7e82d-b64e-4508-9c94-c2cc40c9713e",
        "colab": {
          "base_uri": "https://localhost:8080/",
          "height": 51
        }
      },
      "source": [
        "# Tensorflow and tf.Keras APIs \n",
        "import tensorflow as tf \n",
        "from tensorflow import keras\n",
        "from keras.layers import Dense, Conv2D, Flatten, Activation, Flatten, MaxPooling2D, Dropout\n",
        "print(tf.__version__)"
      ],
      "execution_count": 0,
      "outputs": [
        {
          "output_type": "stream",
          "text": [
            "1.14.0\n"
          ],
          "name": "stdout"
        },
        {
          "output_type": "stream",
          "text": [
            "Using TensorFlow backend.\n"
          ],
          "name": "stderr"
        }
      ]
    },
    {
      "cell_type": "code",
      "metadata": {
        "id": "7nk9tbwLj0ff",
        "colab_type": "code",
        "colab": {}
      },
      "source": [
        "# Supplementing/ helper Libraries \n",
        "import numpy as np \n",
        "import matplotlib.pyplot as plt \n",
        "import glob \n",
        "import os \n",
        "import re \n",
        "import math\n",
        "\n",
        "# Python Image Library \n",
        "import PIL \n",
        "from PIL import Image"
      ],
      "execution_count": 0,
      "outputs": []
    },
    {
      "cell_type": "code",
      "metadata": {
        "id": "gHy3zFA2NZSw",
        "colab_type": "code",
        "colab": {}
      },
      "source": [
        ""
      ],
      "execution_count": 0,
      "outputs": []
    },
    {
      "cell_type": "markdown",
      "metadata": {
        "id": "pFI5Sb4v5iFt",
        "colab_type": "text"
      },
      "source": [
        "Cloning the github repository to obtain image data:"
      ]
    },
    {
      "cell_type": "code",
      "metadata": {
        "id": "M21D9gPuKxYt",
        "colab_type": "code",
        "outputId": "7b56e173-1128-4574-da12-ac859d335de6",
        "colab": {
          "base_uri": "https://localhost:8080/",
          "height": 153
        }
      },
      "source": [
        " !git clone   https://github.com/Tim-R413/Cover-Crop-Classification.git"
      ],
      "execution_count": 0,
      "outputs": [
        {
          "output_type": "stream",
          "text": [
            "Cloning into 'Cover-Crop-Classification'...\n",
            "remote: Enumerating objects: 3, done.\u001b[K\n",
            "remote: Counting objects: 100% (3/3), done.\u001b[K\n",
            "remote: Compressing objects: 100% (3/3), done.\u001b[K\n",
            "remote: Total 196 (delta 0), reused 0 (delta 0), pack-reused 193\u001b[K\n",
            "Receiving objects: 100% (196/196), 251.42 MiB | 35.00 MiB/s, done.\n",
            "Resolving deltas: 100% (79/79), done.\n",
            "Checking out files: 100% (102/102), done.\n"
          ],
          "name": "stdout"
        }
      ]
    },
    {
      "cell_type": "code",
      "metadata": {
        "id": "BGSFq4_XlsRd",
        "colab_type": "code",
        "outputId": "f42b4e0d-484e-4cac-b81c-de23383faaad",
        "colab": {
          "base_uri": "https://localhost:8080/",
          "height": 122
        }
      },
      "source": [
        "from google.colab import drive\n",
        "drive.mount('/content/gdrive')"
      ],
      "execution_count": 0,
      "outputs": [
        {
          "output_type": "stream",
          "text": [
            "Go to this URL in a browser: https://accounts.google.com/o/oauth2/auth?client_id=947318989803-6bn6qk8qdgf4n4g3pfee6491hc0brc4i.apps.googleusercontent.com&redirect_uri=urn%3Aietf%3Awg%3Aoauth%3A2.0%3Aoob&scope=email%20https%3A%2F%2Fwww.googleapis.com%2Fauth%2Fdocs.test%20https%3A%2F%2Fwww.googleapis.com%2Fauth%2Fdrive%20https%3A%2F%2Fwww.googleapis.com%2Fauth%2Fdrive.photos.readonly%20https%3A%2F%2Fwww.googleapis.com%2Fauth%2Fpeopleapi.readonly&response_type=code\n",
            "\n",
            "Enter your authorization code:\n",
            "··········\n",
            "Mounted at /content/gdrive\n"
          ],
          "name": "stdout"
        }
      ]
    },
    {
      "cell_type": "markdown",
      "metadata": {
        "id": "MmFK3XmIVhXj",
        "colab_type": "text"
      },
      "source": [
        "#Loading in and Preprocessing the datasets "
      ]
    },
    {
      "cell_type": "markdown",
      "metadata": {
        "id": "nh7WZ7LPvqPj",
        "colab_type": "text"
      },
      "source": [
        "##**Define** image preprocessing functions:"
      ]
    },
    {
      "cell_type": "markdown",
      "metadata": {
        "id": "_7cP76UrzwiF",
        "colab_type": "text"
      },
      "source": [
        "REVISED FUNCTIONs that divide images into 9 parts then fill the images and labels dataset arrays "
      ]
    },
    {
      "cell_type": "code",
      "metadata": {
        "colab_type": "code",
        "id": "TvHArhpRq09A",
        "colab": {}
      },
      "source": [
        "\n",
        "\n",
        "# define a function that crops each full image into 9 seperate size equivalent images  \n",
        "def image_division (file_path, photo_size):\n",
        "  full_img = Image.open(file_path) #.convert('L')\n",
        "  \n",
        "   # Make aspect ratio as 1:1, by applying image crop. this converts the images into sqaures\n",
        "  Width, Height = full_img.size\n",
        "  if Width != Height:\n",
        "                m_min_d = min(Width, Height)\n",
        "                full_img = full_img.crop((0, 0, m_min_d, m_min_d))\n",
        "  \n",
        "  # Splits the square image into 5 individual images, each cropped to 1/16 the size of the original image \n",
        "  # And Scales the image to the requested max photo size by Anti-alias sampling.\n",
        "  DF = m_min_d\n",
        "  DM = math.floor(DF / 4  )\n",
        "  A = full_img.crop((0, 0, DM, DM)).resize(photo_size, PIL.Image.ANTIALIAS)\n",
        "  B = full_img.crop((DM,0,2*DM,DM)).resize(photo_size, PIL.Image.ANTIALIAS)\n",
        "  C = full_img.crop((2*DM,0,3*DM,DM)).resize(photo_size, PIL.Image.ANTIALIAS)\n",
        "  D = full_img.crop((3*DM,0,DF,DM)).resize(photo_size, PIL.Image.ANTIALIAS)\n",
        "\n",
        "  E = full_img.crop((0,DM,DM,2*DM)).resize(photo_size, PIL.Image.ANTIALIAS)\n",
        "  F = full_img.crop((DM,DM,2*DM,2*DM)).resize(photo_size, PIL.Image.ANTIALIAS)\n",
        "  G = full_img.crop((2*DM,DM,3*DM,2*DM)).resize(photo_size, PIL.Image.ANTIALIAS)\n",
        "  H = full_img.crop((3*DM,DM,DF,2*DM)).resize(photo_size, PIL.Image.ANTIALIAS)\n",
        "\n",
        "  I = full_img.crop((0,2*DM,DM,3*DM)).resize(photo_size, PIL.Image.ANTIALIAS)\n",
        "  J = full_img.crop((DM,2*DM,2*DM,3*DM)).resize(photo_size, PIL.Image.ANTIALIAS)\n",
        "  K = full_img.crop((2*DM,2*DM,3*DM,3*DM)).resize(photo_size, PIL.Image.ANTIALIAS)\n",
        "  L = full_img.crop((3*DM,2*DM,DF,3*DM)).resize(photo_size, PIL.Image.ANTIALIAS)\n",
        "\n",
        "  M = full_img.crop((0,3*DM,DM,DF)).resize(photo_size, PIL.Image.ANTIALIAS)\n",
        "  N = full_img.crop((DM,3*DM,2*DM,DF)).resize(photo_size, PIL.Image.ANTIALIAS)\n",
        "  O = full_img.crop((2*DM,3*DM,3*DM,DF)).resize(photo_size, PIL.Image.ANTIALIAS)\n",
        "  P = full_img.crop((3*DM,3*DM,DF,DF)).resize(photo_size, PIL.Image.ANTIALIAS)\n",
        "\n",
        "\n",
        "  \n",
        "  \n",
        "  \n",
        "  \n",
        "  # returns each individual image as its own Numpy arra\n",
        "  \n",
        "  return np.asarray(A), np.asarray(B), np.asarray(C), np.asarray(D), np.asarray(E), np.asarray(F), np.asarray(G), np.asarray(H), np.asarray(I), np.asarray(J), np.asarray(K), np.asarray(L), np.asarray(M), np.asarray(N), np.asarray(O), np.asarray(P)"
      ],
      "execution_count": 0,
      "outputs": []
    },
    {
      "cell_type": "code",
      "metadata": {
        "colab_type": "code",
        "id": "BnpMayvmrFuT",
        "colab": {}
      },
      "source": [
        "# define a function that maximizes the number of elemaets in a dataset by adding the cropped and scaled smaller images as their own peice of data \n",
        "def maximize_image_dataset (dir_path, photo_size):\n",
        "  images = []\n",
        "  labels=[]\n",
        "  os.chdir(dir_path)\n",
        "  \n",
        "      # analyzes each image file in the designated folder and uses th eimage_division function to extract 5 seperate images from that larger image\n",
        "  for file in glob.glob(\"*.JPG\"):\n",
        "    \n",
        "        img_A, img_B, img_C, img_D, img_E, img_F, img_G, img_H, img_I, img_J, img_K, img_L, img_M, img_N, img_O, img_P= image_division(file, photo_size)\n",
        "        img_set = [img_A, img_B, img_C, img_D, img_E, img_F, img_G, img_H, img_I, img_J, img_K, img_L, img_M, img_N, img_O, img_P]\n",
        "        how_many = len(img_set)\n",
        "          \n",
        "        # appends each mini image to the 'images' dataset and appends its respecting index classification label to the 'label' dataset\n",
        "        # images and labels are appended together so the index is kept consistent between the two datasets.  \n",
        "        if re.match('Canola*', file) or re.match('.*canola*', file):\n",
        "                 for i in range (0,how_many):\n",
        "                    images.append(img_set[i])\n",
        "                    labels.append(0)\n",
        "                               \n",
        "        elif re.match('Clover*', file) or re.match('.*clover*', file):\n",
        "                 for i in range (0,how_many):\n",
        "                       images.append(img_set[i])\n",
        "                       labels.append(1)\n",
        "                    \n",
        "        elif re.match('Triticale*', file) or re.match('.*triticale*', file):\n",
        "                 for i in range (0,how_many):\n",
        "                        images.append(img_set[i])\n",
        "                        labels.append(2)\n",
        "                    \n",
        "       # same as above section, was made to account for images with the lowercase '.jpg' extension         \n",
        "  for file in glob.glob(\"*.jpg\"):\n",
        "    \n",
        "        img_A, img_B, img_C, img_D, img_E, img_F, img_G, img_H, img_I, img_J, img_K, img_L, img_M, img_N, img_O, img_P= image_division (file, photo_size)\n",
        "        img_set = [img_A, img_B, img_C, img_D, img_E, img_F, img_G, img_H, img_I, img_J, img_K, img_L, img_M, img_N, img_O, img_P]\n",
        "        how_many = len(img_set)\n",
        "          \n",
        "        if re.match('Canola*', file) or re.match('.*canola*', file):\n",
        "              for i in range (0,how_many):\n",
        "                    images.append(img_set[i])\n",
        "                    labels.append(0)\n",
        "                               \n",
        "        elif re.match('Clover*', file) or re.match('.*clover*', file):\n",
        "                for i in range (0,how_many):\n",
        "                       images.append(img_set[i])\n",
        "                       labels.append(1)\n",
        "                    \n",
        "        elif re.match('Triticale*', file) or re.match('.*triticale*', file):\n",
        "                for i in range (0,how_many):\n",
        "                       images.append(img_set[i])\n",
        "                       labels.append(2)\n",
        "                \n",
        "  return (images,labels)"
      ],
      "execution_count": 0,
      "outputs": []
    },
    {
      "cell_type": "code",
      "metadata": {
        "id": "MGTnrD-Vx9OM",
        "colab_type": "code",
        "colab": {}
      },
      "source": [
        "# Define a function that shuffles np arrays in unison to keep image and label index consistent:\n",
        "def unison_shuffled_copies(I, L):\n",
        "    assert len(I) == len(L)\n",
        "    p = np.random.permutation(len(I))\n",
        "    return I[p], L[p]"
      ],
      "execution_count": 0,
      "outputs": []
    },
    {
      "cell_type": "markdown",
      "metadata": {
        "id": "-TcKUosQvys9",
        "colab_type": "text"
      },
      "source": [
        "##Define image size and conduct dataset creation "
      ]
    },
    {
      "cell_type": "code",
      "metadata": {
        "id": "k4q3ZHtuMNxM",
        "colab_type": "code",
        "outputId": "7b291896-8089-4cef-eb01-e88db32f7437",
        "colab": {
          "base_uri": "https://localhost:8080/"
        }
      },
      "source": [
        "# image pixel resolution used to train and test model\n",
        "a=PIXEL_resolution\n",
        "photo_size= a, a\n",
        "%cd /content"
      ],
      "execution_count": 0,
      "outputs": [
        {
          "output_type": "stream",
          "text": [
            "/content\n"
          ],
          "name": "stdout"
        }
      ]
    },
    {
      "cell_type": "code",
      "metadata": {
        "id": "h9MhhO22iTWB",
        "colab_type": "code",
        "outputId": "b4fc364b-6741-4cde-dd61-5996f0be4b7e",
        "colab": {
          "base_uri": "https://localhost:8080/"
        }
      },
      "source": [
        "# speciescategories or labels are indexed as following: \n",
        "#Canola:0 \n",
        "#Clover:1 \n",
        "#Triticale:2 \n",
        "\n",
        "CATEGORIES = ['Canola', 'Clover', 'Triticale']\n",
        "category_to_index = dict((name, index) for index,name in enumerate (CATEGORIES))\n",
        "category_to_index\n"
      ],
      "execution_count": 0,
      "outputs": [
        {
          "output_type": "execute_result",
          "data": {
            "text/plain": [
              "{'Canola': 0, 'Clover': 1, 'Triticale': 2}"
            ]
          },
          "metadata": {
            "tags": []
          },
          "execution_count": 22
        }
      ]
    },
    {
      "cell_type": "code",
      "metadata": {
        "id": "jq44ggjkugpH",
        "colab_type": "code",
        "colab": {}
      },
      "source": [
        "## load training and test data into numpy aarrays by executing these functions:\n",
        "\n",
        "(images, labels) = maximize_image_dataset(\"/content/Cover-Crop-Classification/COVER CROP DATASET\",photo_size)\n",
        "(more_images,more_labels) = maximize_image_dataset('/content/gdrive/My Drive/Cover Crop species data /HALF SPECIES DATA',photo_size)\n",
        "images.extend(more_images)\n",
        "labels.extend(more_labels)\n",
        "images=np.asarray(images)\n",
        "labels=np.asarray(labels)"
      ],
      "execution_count": 0,
      "outputs": []
    },
    {
      "cell_type": "code",
      "metadata": {
        "id": "WZWwTN-Vs65g",
        "colab_type": "code",
        "outputId": "0df25ccb-bb6b-4a2a-c4da-0412265d2537",
        "colab": {
          "base_uri": "https://localhost:8080/"
        }
      },
      "source": [
        "#Check shape and size of the dataset arrays\n",
        "print(len(images))\n",
        "print(len(labels))\n",
        "\n",
        "print (images.shape)\n"
      ],
      "execution_count": 0,
      "outputs": [
        {
          "output_type": "stream",
          "text": [
            "1136\n",
            "1136\n",
            "(1136, 16, 16, 3)\n"
          ],
          "name": "stdout"
        }
      ]
    },
    {
      "cell_type": "markdown",
      "metadata": {
        "id": "jOOxHMUBNGx7",
        "colab_type": "text"
      },
      "source": [
        "randomly shuffle image and label data arrays, consistent with eachother. "
      ]
    },
    {
      "cell_type": "code",
      "metadata": {
        "id": "PQ1i4eeYzDNb",
        "colab_type": "code",
        "outputId": "71f49c03-e28e-478d-ae08-0168d2960e1b",
        "colab": {
          "base_uri": "https://localhost:8080/"
        }
      },
      "source": [
        "print('Original order of images/labels: \\n' ,  labels)\n",
        "images, labels = unison_shuffled_copies(images, labels)\n",
        "print ()\n",
        "print('Shuffled order of images/labels: \\n' , labels)"
      ],
      "execution_count": 0,
      "outputs": [
        {
          "output_type": "stream",
          "text": [
            "Original order of images/labels: \n",
            " [0 0 0 ... 2 2 2]\n",
            "\n",
            "Shuffled order of images/labels: \n",
            " [1 1 1 ... 0 1 0]\n"
          ],
          "name": "stdout"
        }
      ]
    },
    {
      "cell_type": "markdown",
      "metadata": {
        "id": "mjlt6l0R5qPT",
        "colab_type": "text"
      },
      "source": [
        "Seperate the full array of images and labels into 90% training data and 10% validation data "
      ]
    },
    {
      "cell_type": "code",
      "metadata": {
        "id": "FInJ43uw7zPF",
        "colab_type": "code",
        "colab": {}
      },
      "source": [
        "## normalize the data\n",
        "images=images/255.0\n"
      ],
      "execution_count": 0,
      "outputs": []
    },
    {
      "cell_type": "markdown",
      "metadata": {
        "colab_type": "text",
        "id": "AzHYisNZtYCZ"
      },
      "source": [
        "## Validating and displaying original datasets "
      ]
    },
    {
      "cell_type": "code",
      "metadata": {
        "colab_type": "code",
        "id": "5kWgZECftYCs",
        "outputId": "f25c8075-fbe1-42c4-fa0e-88869e720d59",
        "colab": {
          "base_uri": "https://localhost:8080/"
        }
      },
      "source": [
        "print(labels)"
      ],
      "execution_count": 0,
      "outputs": [
        {
          "output_type": "stream",
          "text": [
            "[1 1 1 ... 0 1 0]\n"
          ],
          "name": "stdout"
        }
      ]
    },
    {
      "cell_type": "code",
      "metadata": {
        "colab_type": "code",
        "id": "TPUZFy3atYCx",
        "colab": {}
      },
      "source": [
        "def display_images(images, labels):\n",
        "        plt.figure(figsize=(15,15))\n",
        "        grid_size = min(16, len(images))\n",
        "        for i in range(grid_size):\n",
        "                plt.subplot(4, 4, i+1)\n",
        "                plt.xticks([])\n",
        "                plt.yticks([])\n",
        "                plt.grid(False)\n",
        "                plt.imshow(images[i], cmap=plt.cm.binary)\n",
        "                plt.xlabel(CATEGORIES[labels[i]])"
      ],
      "execution_count": 0,
      "outputs": []
    },
    {
      "cell_type": "code",
      "metadata": {
        "colab_type": "code",
        "id": "KTWcJm3BtYC5",
        "outputId": "4f662e55-47ab-4f1b-93e0-e84ed0cd6bcf",
        "colab": {
          "base_uri": "https://localhost:8080/"
        }
      },
      "source": [
        "display_images(images, labels)\n",
        "plt.show()"
      ],
      "execution_count": 0,
      "outputs": [
        {
          "output_type": "display_data",
          "data": {
            "image/png": "[encoded data removed]",
            "text/plain": [
              "<Figure size 1080x1080 with 16 Axes>"
            ]
          },
          "metadata": {
            "tags": []
          }
        }
      ]
    },
    {
      "cell_type": "code",
      "metadata": {
        "colab_type": "code",
        "id": "uNDb2_sRtYC9",
        "outputId": "684302e1-13c4-4194-e31d-8145b969deb2",
        "colab": {
          "base_uri": "https://localhost:8080/"
        }
      },
      "source": [
        "subtitle = 112\n",
        "plt.figure()\n",
        "plt.imshow(images[subtitle], cmap=plt.cm.binary)\n",
        "plt.colorbar()\n",
        "plt.grid(False)\n",
        "plt.xlabel(CATEGORIES[labels[subtitle]])"
      ],
      "execution_count": 0,
      "outputs": [
        {
          "output_type": "execute_result",
          "data": {
            "text/plain": [
              "Text(0.5, 0, 'Clover')"
            ]
          },
          "metadata": {
            "tags": []
          },
          "execution_count": 30
        },
        {
          "output_type": "display_data",
          "data": {
            "image/png": "[encoded data removed]",
            "text/plain": [
              "<Figure size 432x288 with 2 Axes>"
            ]
          },
          "metadata": {
            "tags": []
          }
        }
      ]
    },
    {
      "cell_type": "markdown",
      "metadata": {
        "colab_type": "text",
        "id": "dFoDlLIMtYDN"
      },
      "source": [
        "#Building the ML model:"
      ]
    },
    {
      "cell_type": "markdown",
      "metadata": {
        "colab_type": "text",
        "id": "an8tvDfytYDP"
      },
      "source": [
        "**Initiialize the model layers:**"
      ]
    },
    {
      "cell_type": "markdown",
      "metadata": {
        "id": "225LHch7XfRY",
        "colab_type": "text"
      },
      "source": [
        "### Different model builds:"
      ]
    },
    {
      "cell_type": "code",
      "metadata": {
        "id": "gCNaBQAI82NN",
        "colab_type": "code",
        "outputId": "82eefc84-352e-4cd5-f6ab-bf65a982d8ef",
        "colab": {
          "base_uri": "https://localhost:8080/",
          "height": 105
        }
      },
      "source": [
        "MarkI_model = keras.Sequential([\n",
        "  keras.layers.Flatten(input_shape = (a, a, 3)),\n",
        " keras.layers.Dense(100, activation=tf.nn.relu),\n",
        "    keras.layers.Dropout(0.25),\n",
        " keras.layers.Dense(50, activation=tf.nn.relu),\n",
        "  keras.layers.Dense(3, activation=tf.nn.softmax)])"
      ],
      "execution_count": 0,
      "outputs": [
        {
          "output_type": "stream",
          "text": [
            "WARNING: Logging before flag parsing goes to stderr.\n",
            "W0723 17:25:51.496170 140494730393472 deprecation.py:506] From /usr/local/lib/python3.6/dist-packages/tensorflow/python/ops/init_ops.py:1251: calling VarianceScaling.__init__ (from tensorflow.python.ops.init_ops) with dtype is deprecated and will be removed in a future version.\n",
            "Instructions for updating:\n",
            "Call initializer instance with the dtype argument instead of passing it to the constructor\n"
          ],
          "name": "stderr"
        }
      ]
    },
    {
      "cell_type": "code",
      "metadata": {
        "id": "BgqucocyASjm",
        "colab_type": "code",
        "colab": {}
      },
      "source": [
        "MarkII_model = keras.Sequential([\n",
        "  keras.layers.Flatten(input_shape = (a, a, 3)),\n",
        " keras.layers.Dense(128, activation=tf.nn.relu),\n",
        "    keras.layers.Dropout(0.25),\n",
        " keras.layers.Dense(64, activation=tf.nn.relu),\n",
        "  keras.layers.Dense(3, activation=tf.nn.softmax)])"
      ],
      "execution_count": 0,
      "outputs": []
    },
    {
      "cell_type": "code",
      "metadata": {
        "id": "niLJ40VPu5TH",
        "colab_type": "code",
        "colab": {}
      },
      "source": [
        "MarkIV_CNN_model = keras.Sequential([\n",
        "  \n",
        "  keras.layers.Conv2D(filters=32, kernel_size=3,padding='same', activation= 'relu', input_shape=(a,a,3)),\n",
        "  (keras.layers.MaxPooling2D(pool_size=(2,2))),\n",
        "  (tf.keras.layers.Dropout(0.3)),\n",
        "  \n",
        "  (keras.layers.Conv2D(filters=64,kernel_size=(3,3),padding='same', activation=tf.nn.relu)),\n",
        "  (keras.layers.MaxPooling2D(pool_size = (2,2))),\n",
        "  (keras.layers.Dropout(0.5)),\n",
        "  \n",
        " (keras.layers.Conv2D(filters=64,kernel_size=(3,3),padding='same', activation=tf.nn.relu)),\n",
        " (keras.layers.MaxPooling2D(pool_size = (2,2))),\n",
        "  (keras.layers.Dropout(0.5)),\n",
        "  \n",
        "  \n",
        "  (keras.layers.Conv2D(filters=128,kernel_size=(3,3),padding='same', activation=tf.nn.relu)),\n",
        "  (keras.layers.MaxPooling2D(pool_size = (2,2))),\n",
        " (keras.layers.Dropout(0.5)),\n",
        "  \n",
        "  (keras.layers.Flatten()),\n",
        "(keras.layers.Dense(256,activation=tf.nn.relu)),\n",
        "  (tf.keras.layers.Dropout(0.5)),\n",
        "    keras.layers.Dense(128,activation='relu'),\n",
        "    (tf.keras.layers.Dropout(0.25)),\n",
        "  \n",
        "(keras.layers.Dense(3, activation=tf.nn.softmax))])"
      ],
      "execution_count": 0,
      "outputs": []
    },
    {
      "cell_type": "markdown",
      "metadata": {
        "colab_type": "text",
        "id": "5uWBbwqztYDw"
      },
      "source": [
        "**Compile the model:**"
      ]
    },
    {
      "cell_type": "code",
      "metadata": {
        "id": "SIT0LWw8XzN3",
        "colab_type": "code",
        "colab": {}
      },
      "source": [
        "\n",
        "# which model will be tested \n",
        "run_model = MarkIV_CNN_model\n",
        "\n"
      ],
      "execution_count": 0,
      "outputs": []
    },
    {
      "cell_type": "code",
      "metadata": {
        "id": "FZLP1WDX1voF",
        "colab_type": "code",
        "colab": {}
      },
      "source": [
        "MarkI_model.compile(optimizer='adam', \n",
        "              loss='sparse_categorical_crossentropy',\n",
        "              metrics=['accuracy'])\n",
        "MarkII_model.compile(optimizer='adam', \n",
        "              loss='sparse_categorical_crossentropy',\n",
        "              metrics=['accuracy'])"
      ],
      "execution_count": 0,
      "outputs": []
    },
    {
      "cell_type": "code",
      "metadata": {
        "colab_type": "code",
        "id": "otyLuySPtYEC",
        "colab": {}
      },
      "source": [
        "run_model.compile(optimizer='adam', \n",
        "              loss='sparse_categorical_crossentropy',\n",
        "              metrics=['accuracy'])"
      ],
      "execution_count": 0,
      "outputs": []
    },
    {
      "cell_type": "markdown",
      "metadata": {
        "id": "CeLDoQu9Y4QM",
        "colab_type": "text"
      },
      "source": [
        "### Training :"
      ]
    },
    {
      "cell_type": "code",
      "metadata": {
        "id": "n7geFsOV19iM",
        "colab_type": "code",
        "outputId": "947bcccc-66bc-4b65-8d21-d557f4093d63",
        "colab": {
          "base_uri": "https://localhost:8080/",
          "height": 1000
        }
      },
      "source": [
        "MarkI_model.fit(images,labels, validation_split=0.10, shuffle=True, epochs =75)"
      ],
      "execution_count": 0,
      "outputs": [
        {
          "output_type": "stream",
          "text": [
            "Train on 1022 samples, validate on 114 samples\n",
            "Epoch 1/75\n",
            "1022/1022 [==============================] - 1s 1ms/sample - loss: 1.0957 - acc: 0.4061 - val_loss: 1.0391 - val_acc: 0.3860\n",
            "Epoch 2/75\n",
            "1022/1022 [==============================] - 0s 128us/sample - loss: 1.0026 - acc: 0.4873 - val_loss: 0.9182 - val_acc: 0.5789\n",
            "Epoch 3/75\n",
            "1022/1022 [==============================] - 0s 129us/sample - loss: 0.8922 - acc: 0.5577 - val_loss: 0.8263 - val_acc: 0.5965\n",
            "Epoch 4/75\n",
            "1022/1022 [==============================] - 0s 116us/sample - loss: 0.7800 - acc: 0.6135 - val_loss: 0.7781 - val_acc: 0.5702\n",
            "Epoch 5/75\n",
            "1022/1022 [==============================] - 0s 118us/sample - loss: 0.7235 - acc: 0.6233 - val_loss: 0.8100 - val_acc: 0.6140\n",
            "Epoch 6/75\n",
            "1022/1022 [==============================] - 0s 142us/sample - loss: 0.7187 - acc: 0.6272 - val_loss: 0.7949 - val_acc: 0.6404\n",
            "Epoch 7/75\n",
            "1022/1022 [==============================] - 0s 114us/sample - loss: 0.6880 - acc: 0.6458 - val_loss: 0.7487 - val_acc: 0.5614\n",
            "Epoch 8/75\n",
            "1022/1022 [==============================] - 0s 122us/sample - loss: 0.6691 - acc: 0.6517 - val_loss: 0.7182 - val_acc: 0.6316\n",
            "Epoch 9/75\n",
            "1022/1022 [==============================] - 0s 129us/sample - loss: 0.6786 - acc: 0.6419 - val_loss: 0.7121 - val_acc: 0.6140\n",
            "Epoch 10/75\n",
            "1022/1022 [==============================] - 0s 116us/sample - loss: 0.6469 - acc: 0.6693 - val_loss: 0.7119 - val_acc: 0.6228\n",
            "Epoch 11/75\n",
            "1022/1022 [==============================] - 0s 114us/sample - loss: 0.6731 - acc: 0.6429 - val_loss: 0.7168 - val_acc: 0.6140\n",
            "Epoch 12/75\n",
            "1022/1022 [==============================] - 0s 123us/sample - loss: 0.6451 - acc: 0.6840 - val_loss: 0.7123 - val_acc: 0.6754\n",
            "Epoch 13/75\n",
            "1022/1022 [==============================] - 0s 120us/sample - loss: 0.6430 - acc: 0.6624 - val_loss: 0.7595 - val_acc: 0.5965\n",
            "Epoch 14/75\n",
            "1022/1022 [==============================] - 0s 137us/sample - loss: 0.6427 - acc: 0.6810 - val_loss: 0.7305 - val_acc: 0.5614\n",
            "Epoch 15/75\n",
            "1022/1022 [==============================] - 0s 126us/sample - loss: 0.6396 - acc: 0.6771 - val_loss: 0.7069 - val_acc: 0.6754\n",
            "Epoch 16/75\n",
            "1022/1022 [==============================] - 0s 115us/sample - loss: 0.6208 - acc: 0.6849 - val_loss: 0.7153 - val_acc: 0.6140\n",
            "Epoch 17/75\n",
            "1022/1022 [==============================] - 0s 119us/sample - loss: 0.6255 - acc: 0.7074 - val_loss: 0.7071 - val_acc: 0.6579\n",
            "Epoch 18/75\n",
            "1022/1022 [==============================] - 0s 135us/sample - loss: 0.6209 - acc: 0.6810 - val_loss: 0.7236 - val_acc: 0.6404\n",
            "Epoch 19/75\n",
            "1022/1022 [==============================] - 0s 126us/sample - loss: 0.6146 - acc: 0.6849 - val_loss: 0.7336 - val_acc: 0.6228\n",
            "Epoch 20/75\n",
            "1022/1022 [==============================] - 0s 114us/sample - loss: 0.6120 - acc: 0.6918 - val_loss: 0.7270 - val_acc: 0.6140\n",
            "Epoch 21/75\n",
            "1022/1022 [==============================] - 0s 119us/sample - loss: 0.6061 - acc: 0.7123 - val_loss: 0.7430 - val_acc: 0.6228\n",
            "Epoch 22/75\n",
            "1022/1022 [==============================] - 0s 140us/sample - loss: 0.5966 - acc: 0.7094 - val_loss: 0.7191 - val_acc: 0.5965\n",
            "Epoch 23/75\n",
            "1022/1022 [==============================] - 0s 115us/sample - loss: 0.6022 - acc: 0.6859 - val_loss: 0.7073 - val_acc: 0.6579\n",
            "Epoch 24/75\n",
            "1022/1022 [==============================] - 0s 126us/sample - loss: 0.5986 - acc: 0.7065 - val_loss: 0.6924 - val_acc: 0.6140\n",
            "Epoch 25/75\n",
            "1022/1022 [==============================] - 0s 124us/sample - loss: 0.6059 - acc: 0.7074 - val_loss: 0.7074 - val_acc: 0.6579\n",
            "Epoch 26/75\n",
            "1022/1022 [==============================] - 0s 141us/sample - loss: 0.5974 - acc: 0.6996 - val_loss: 0.6919 - val_acc: 0.6667\n",
            "Epoch 27/75\n",
            "1022/1022 [==============================] - 0s 121us/sample - loss: 0.5896 - acc: 0.7192 - val_loss: 0.7209 - val_acc: 0.6491\n",
            "Epoch 28/75\n",
            "1022/1022 [==============================] - 0s 115us/sample - loss: 0.5839 - acc: 0.7055 - val_loss: 0.7063 - val_acc: 0.6579\n",
            "Epoch 29/75\n",
            "1022/1022 [==============================] - 0s 133us/sample - loss: 0.6090 - acc: 0.7133 - val_loss: 0.8314 - val_acc: 0.5789\n",
            "Epoch 30/75\n",
            "1022/1022 [==============================] - 0s 126us/sample - loss: 0.5797 - acc: 0.7162 - val_loss: 0.7113 - val_acc: 0.5965\n",
            "Epoch 31/75\n",
            "1022/1022 [==============================] - 0s 118us/sample - loss: 0.5637 - acc: 0.7358 - val_loss: 0.7092 - val_acc: 0.6754\n",
            "Epoch 32/75\n",
            "1022/1022 [==============================] - 0s 117us/sample - loss: 0.5629 - acc: 0.7074 - val_loss: 0.7180 - val_acc: 0.5877\n",
            "Epoch 33/75\n",
            "1022/1022 [==============================] - 0s 122us/sample - loss: 0.5638 - acc: 0.7270 - val_loss: 0.8031 - val_acc: 0.6228\n",
            "Epoch 34/75\n",
            "1022/1022 [==============================] - 0s 117us/sample - loss: 0.5729 - acc: 0.7104 - val_loss: 0.7065 - val_acc: 0.6579\n",
            "Epoch 35/75\n",
            "1022/1022 [==============================] - 0s 120us/sample - loss: 0.5502 - acc: 0.7250 - val_loss: 0.7220 - val_acc: 0.7018\n",
            "Epoch 36/75\n",
            "1022/1022 [==============================] - 0s 127us/sample - loss: 0.5685 - acc: 0.7309 - val_loss: 0.6901 - val_acc: 0.6579\n",
            "Epoch 37/75\n",
            "1022/1022 [==============================] - 0s 134us/sample - loss: 0.5293 - acc: 0.7476 - val_loss: 0.7449 - val_acc: 0.7018\n",
            "Epoch 38/75\n",
            "1022/1022 [==============================] - 0s 128us/sample - loss: 0.5409 - acc: 0.7309 - val_loss: 0.6975 - val_acc: 0.6491\n",
            "Epoch 39/75\n",
            "1022/1022 [==============================] - 0s 112us/sample - loss: 0.5375 - acc: 0.7427 - val_loss: 0.7526 - val_acc: 0.5965\n",
            "Epoch 40/75\n",
            "1022/1022 [==============================] - 0s 132us/sample - loss: 0.5217 - acc: 0.7436 - val_loss: 0.7005 - val_acc: 0.6404\n",
            "Epoch 41/75\n",
            "1022/1022 [==============================] - 0s 124us/sample - loss: 0.5294 - acc: 0.7505 - val_loss: 0.7162 - val_acc: 0.6930\n",
            "Epoch 42/75\n",
            "1022/1022 [==============================] - 0s 116us/sample - loss: 0.5105 - acc: 0.7583 - val_loss: 0.6916 - val_acc: 0.6579\n",
            "Epoch 43/75\n",
            "1022/1022 [==============================] - 0s 121us/sample - loss: 0.5155 - acc: 0.7642 - val_loss: 0.7106 - val_acc: 0.6228\n",
            "Epoch 44/75\n",
            "1022/1022 [==============================] - 0s 126us/sample - loss: 0.5097 - acc: 0.7583 - val_loss: 0.7038 - val_acc: 0.6491\n",
            "Epoch 45/75\n",
            "1022/1022 [==============================] - 0s 132us/sample - loss: 0.5054 - acc: 0.7691 - val_loss: 0.7573 - val_acc: 0.6140\n",
            "Epoch 46/75\n",
            "1022/1022 [==============================] - 0s 118us/sample - loss: 0.4888 - acc: 0.7808 - val_loss: 0.6773 - val_acc: 0.6404\n",
            "Epoch 47/75\n",
            "1022/1022 [==============================] - 0s 124us/sample - loss: 0.4839 - acc: 0.7818 - val_loss: 0.6194 - val_acc: 0.7719\n",
            "Epoch 48/75\n",
            "1022/1022 [==============================] - 0s 128us/sample - loss: 0.4737 - acc: 0.7867 - val_loss: 0.6331 - val_acc: 0.7456\n",
            "Epoch 49/75\n",
            "1022/1022 [==============================] - 0s 126us/sample - loss: 0.4910 - acc: 0.7622 - val_loss: 0.6616 - val_acc: 0.7018\n",
            "Epoch 50/75\n",
            "1022/1022 [==============================] - 0s 127us/sample - loss: 0.5012 - acc: 0.7613 - val_loss: 0.7136 - val_acc: 0.6491\n",
            "Epoch 51/75\n",
            "1022/1022 [==============================] - 0s 115us/sample - loss: 0.5054 - acc: 0.7436 - val_loss: 0.6196 - val_acc: 0.6579\n",
            "Epoch 52/75\n",
            "1022/1022 [==============================] - 0s 125us/sample - loss: 0.5008 - acc: 0.7544 - val_loss: 0.7266 - val_acc: 0.6491\n",
            "Epoch 53/75\n",
            "1022/1022 [==============================] - 0s 134us/sample - loss: 0.4843 - acc: 0.7769 - val_loss: 0.7062 - val_acc: 0.6140\n",
            "Epoch 54/75\n",
            "1022/1022 [==============================] - 0s 116us/sample - loss: 0.4905 - acc: 0.7583 - val_loss: 0.6715 - val_acc: 0.6667\n",
            "Epoch 55/75\n",
            "1022/1022 [==============================] - 0s 114us/sample - loss: 0.4701 - acc: 0.7808 - val_loss: 0.6562 - val_acc: 0.7018\n",
            "Epoch 56/75\n",
            "1022/1022 [==============================] - 0s 123us/sample - loss: 0.4704 - acc: 0.7916 - val_loss: 0.7949 - val_acc: 0.7193\n",
            "Epoch 57/75\n",
            "1022/1022 [==============================] - 0s 126us/sample - loss: 0.4724 - acc: 0.7750 - val_loss: 0.6869 - val_acc: 0.7193\n",
            "Epoch 58/75\n",
            "1022/1022 [==============================] - 0s 126us/sample - loss: 0.4889 - acc: 0.7661 - val_loss: 0.7350 - val_acc: 0.6404\n",
            "Epoch 59/75\n",
            "1022/1022 [==============================] - 0s 124us/sample - loss: 0.4689 - acc: 0.7789 - val_loss: 0.7706 - val_acc: 0.6228\n",
            "Epoch 60/75\n",
            "1022/1022 [==============================] - 0s 126us/sample - loss: 0.5084 - acc: 0.7534 - val_loss: 0.6970 - val_acc: 0.6667\n",
            "Epoch 61/75\n",
            "1022/1022 [==============================] - 0s 136us/sample - loss: 0.4541 - acc: 0.7789 - val_loss: 0.7027 - val_acc: 0.6579\n",
            "Epoch 62/75\n",
            "1022/1022 [==============================] - 0s 114us/sample - loss: 0.4580 - acc: 0.7975 - val_loss: 0.7367 - val_acc: 0.7018\n",
            "Epoch 63/75\n",
            "1022/1022 [==============================] - 0s 124us/sample - loss: 0.4379 - acc: 0.8102 - val_loss: 0.7315 - val_acc: 0.6930\n",
            "Epoch 64/75\n",
            "1022/1022 [==============================] - 0s 127us/sample - loss: 0.4572 - acc: 0.7808 - val_loss: 0.7911 - val_acc: 0.6228\n",
            "Epoch 65/75\n",
            "1022/1022 [==============================] - 0s 114us/sample - loss: 0.4498 - acc: 0.7877 - val_loss: 0.7580 - val_acc: 0.6316\n",
            "Epoch 66/75\n",
            "1022/1022 [==============================] - 0s 129us/sample - loss: 0.4044 - acc: 0.8239 - val_loss: 0.6307 - val_acc: 0.7456\n",
            "Epoch 67/75\n",
            "1022/1022 [==============================] - 0s 119us/sample - loss: 0.4198 - acc: 0.8043 - val_loss: 0.7102 - val_acc: 0.7632\n",
            "Epoch 68/75\n",
            "1022/1022 [==============================] - 0s 131us/sample - loss: 0.4337 - acc: 0.7965 - val_loss: 0.6775 - val_acc: 0.6754\n",
            "Epoch 69/75\n",
            "1022/1022 [==============================] - 0s 116us/sample - loss: 0.4344 - acc: 0.8249 - val_loss: 0.6245 - val_acc: 0.6930\n",
            "Epoch 70/75\n",
            "1022/1022 [==============================] - 0s 118us/sample - loss: 0.4066 - acc: 0.8170 - val_loss: 0.6078 - val_acc: 0.7632\n",
            "Epoch 71/75\n",
            "1022/1022 [==============================] - 0s 116us/sample - loss: 0.3944 - acc: 0.8239 - val_loss: 0.6678 - val_acc: 0.7368\n",
            "Epoch 72/75\n",
            "1022/1022 [==============================] - 0s 116us/sample - loss: 0.4014 - acc: 0.8092 - val_loss: 0.6651 - val_acc: 0.7544\n",
            "Epoch 73/75\n",
            "1022/1022 [==============================] - 0s 115us/sample - loss: 0.3640 - acc: 0.8464 - val_loss: 0.6578 - val_acc: 0.7544\n",
            "Epoch 74/75\n",
            "1022/1022 [==============================] - 0s 116us/sample - loss: 0.3679 - acc: 0.8405 - val_loss: 0.6845 - val_acc: 0.6930\n",
            "Epoch 75/75\n",
            "1022/1022 [==============================] - 0s 125us/sample - loss: 0.3781 - acc: 0.8425 - val_loss: 0.6365 - val_acc: 0.7719\n"
          ],
          "name": "stdout"
        },
        {
          "output_type": "execute_result",
          "data": {
            "text/plain": [
              "<tensorflow.python.keras.callbacks.History at 0x7fc72c11fd30>"
            ]
          },
          "metadata": {
            "tags": []
          },
          "execution_count": 37
        }
      ]
    },
    {
      "cell_type": "code",
      "metadata": {
        "id": "3xeB-KwK19OX",
        "colab_type": "code",
        "outputId": "20c6464b-162f-4567-e57a-f64530acbbaa",
        "colab": {
          "base_uri": "https://localhost:8080/",
          "height": 1000
        }
      },
      "source": [
        "MarkII_model.fit(images,labels, validation_split=0.10, shuffle=True, epochs =75)"
      ],
      "execution_count": 0,
      "outputs": [
        {
          "output_type": "stream",
          "text": [
            "Train on 1022 samples, validate on 114 samples\n",
            "Epoch 1/75\n",
            "1022/1022 [==============================] - 0s 275us/sample - loss: 1.1315 - acc: 0.4022 - val_loss: 1.0709 - val_acc: 0.3596\n",
            "Epoch 2/75\n",
            "1022/1022 [==============================] - 0s 128us/sample - loss: 1.0190 - acc: 0.4618 - val_loss: 0.9383 - val_acc: 0.6140\n",
            "Epoch 3/75\n",
            "1022/1022 [==============================] - 0s 117us/sample - loss: 0.8884 - acc: 0.5656 - val_loss: 0.8141 - val_acc: 0.5965\n",
            "Epoch 4/75\n",
            "1022/1022 [==============================] - 0s 133us/sample - loss: 0.7898 - acc: 0.5910 - val_loss: 0.7599 - val_acc: 0.6754\n",
            "Epoch 5/75\n",
            "1022/1022 [==============================] - 0s 134us/sample - loss: 0.7157 - acc: 0.6389 - val_loss: 0.7317 - val_acc: 0.5789\n",
            "Epoch 6/75\n",
            "1022/1022 [==============================] - 0s 130us/sample - loss: 0.6834 - acc: 0.6712 - val_loss: 0.7197 - val_acc: 0.6053\n",
            "Epoch 7/75\n",
            "1022/1022 [==============================] - 0s 125us/sample - loss: 0.6756 - acc: 0.6477 - val_loss: 0.7191 - val_acc: 0.5877\n",
            "Epoch 8/75\n",
            "1022/1022 [==============================] - 0s 125us/sample - loss: 0.6602 - acc: 0.6546 - val_loss: 0.7089 - val_acc: 0.6579\n",
            "Epoch 9/75\n",
            "1022/1022 [==============================] - 0s 116us/sample - loss: 0.6637 - acc: 0.6419 - val_loss: 0.7053 - val_acc: 0.6491\n",
            "Epoch 10/75\n",
            "1022/1022 [==============================] - 0s 127us/sample - loss: 0.6530 - acc: 0.6605 - val_loss: 0.7845 - val_acc: 0.5614\n",
            "Epoch 11/75\n",
            "1022/1022 [==============================] - 0s 130us/sample - loss: 0.6408 - acc: 0.6810 - val_loss: 0.7246 - val_acc: 0.6754\n",
            "Epoch 12/75\n",
            "1022/1022 [==============================] - 0s 135us/sample - loss: 0.6419 - acc: 0.6771 - val_loss: 0.7332 - val_acc: 0.6842\n",
            "Epoch 13/75\n",
            "1022/1022 [==============================] - 0s 127us/sample - loss: 0.6302 - acc: 0.6761 - val_loss: 0.7068 - val_acc: 0.6667\n",
            "Epoch 14/75\n",
            "1022/1022 [==============================] - 0s 126us/sample - loss: 0.6269 - acc: 0.6830 - val_loss: 0.7416 - val_acc: 0.6930\n",
            "Epoch 15/75\n",
            "1022/1022 [==============================] - 0s 125us/sample - loss: 0.6337 - acc: 0.6928 - val_loss: 0.7367 - val_acc: 0.6491\n",
            "Epoch 16/75\n",
            "1022/1022 [==============================] - 0s 124us/sample - loss: 0.6313 - acc: 0.6849 - val_loss: 0.7156 - val_acc: 0.6491\n",
            "Epoch 17/75\n",
            "1022/1022 [==============================] - 0s 124us/sample - loss: 0.6330 - acc: 0.6693 - val_loss: 0.7565 - val_acc: 0.6404\n",
            "Epoch 18/75\n",
            "1022/1022 [==============================] - 0s 126us/sample - loss: 0.6101 - acc: 0.6898 - val_loss: 0.7579 - val_acc: 0.5965\n",
            "Epoch 19/75\n",
            "1022/1022 [==============================] - 0s 135us/sample - loss: 0.5969 - acc: 0.7104 - val_loss: 0.7773 - val_acc: 0.6667\n",
            "Epoch 20/75\n",
            "1022/1022 [==============================] - 0s 132us/sample - loss: 0.5920 - acc: 0.7055 - val_loss: 0.7197 - val_acc: 0.6842\n",
            "Epoch 21/75\n",
            "1022/1022 [==============================] - 0s 114us/sample - loss: 0.5992 - acc: 0.6967 - val_loss: 0.7051 - val_acc: 0.6930\n",
            "Epoch 22/75\n",
            "1022/1022 [==============================] - 0s 125us/sample - loss: 0.5893 - acc: 0.7065 - val_loss: 0.7165 - val_acc: 0.6579\n",
            "Epoch 23/75\n",
            "1022/1022 [==============================] - 0s 144us/sample - loss: 0.5927 - acc: 0.6937 - val_loss: 0.7314 - val_acc: 0.5965\n",
            "Epoch 24/75\n",
            "1022/1022 [==============================] - 0s 125us/sample - loss: 0.5831 - acc: 0.7162 - val_loss: 0.7230 - val_acc: 0.6053\n",
            "Epoch 25/75\n",
            "1022/1022 [==============================] - 0s 124us/sample - loss: 0.5962 - acc: 0.6879 - val_loss: 0.7204 - val_acc: 0.6053\n",
            "Epoch 26/75\n",
            "1022/1022 [==============================] - 0s 130us/sample - loss: 0.6098 - acc: 0.6771 - val_loss: 0.6941 - val_acc: 0.6579\n",
            "Epoch 27/75\n",
            "1022/1022 [==============================] - 0s 135us/sample - loss: 0.5740 - acc: 0.7241 - val_loss: 0.7097 - val_acc: 0.7105\n",
            "Epoch 28/75\n",
            "1022/1022 [==============================] - 0s 129us/sample - loss: 0.5714 - acc: 0.7153 - val_loss: 0.7202 - val_acc: 0.6053\n",
            "Epoch 29/75\n",
            "1022/1022 [==============================] - 0s 122us/sample - loss: 0.5669 - acc: 0.7172 - val_loss: 0.6943 - val_acc: 0.6579\n",
            "Epoch 30/75\n",
            "1022/1022 [==============================] - 0s 126us/sample - loss: 0.5666 - acc: 0.7319 - val_loss: 0.7069 - val_acc: 0.6404\n",
            "Epoch 31/75\n",
            "1022/1022 [==============================] - 0s 134us/sample - loss: 0.5632 - acc: 0.7202 - val_loss: 0.6964 - val_acc: 0.7105\n",
            "Epoch 32/75\n",
            "1022/1022 [==============================] - 0s 118us/sample - loss: 0.5773 - acc: 0.7202 - val_loss: 0.7361 - val_acc: 0.6667\n",
            "Epoch 33/75\n",
            "1022/1022 [==============================] - 0s 119us/sample - loss: 0.5699 - acc: 0.7290 - val_loss: 0.7298 - val_acc: 0.6842\n",
            "Epoch 34/75\n",
            "1022/1022 [==============================] - 0s 132us/sample - loss: 0.5405 - acc: 0.7299 - val_loss: 0.7649 - val_acc: 0.6579\n",
            "Epoch 35/75\n",
            "1022/1022 [==============================] - 0s 125us/sample - loss: 0.5284 - acc: 0.7652 - val_loss: 0.7416 - val_acc: 0.7105\n",
            "Epoch 36/75\n",
            "1022/1022 [==============================] - 0s 119us/sample - loss: 0.5357 - acc: 0.7436 - val_loss: 0.7325 - val_acc: 0.6754\n",
            "Epoch 37/75\n",
            "1022/1022 [==============================] - 0s 118us/sample - loss: 0.5199 - acc: 0.7476 - val_loss: 0.7122 - val_acc: 0.6140\n",
            "Epoch 38/75\n",
            "1022/1022 [==============================] - 0s 121us/sample - loss: 0.5201 - acc: 0.7368 - val_loss: 0.7462 - val_acc: 0.6930\n",
            "Epoch 39/75\n",
            "1022/1022 [==============================] - 0s 116us/sample - loss: 0.5151 - acc: 0.7476 - val_loss: 0.7265 - val_acc: 0.6491\n",
            "Epoch 40/75\n",
            "1022/1022 [==============================] - 0s 117us/sample - loss: 0.5224 - acc: 0.7456 - val_loss: 0.7034 - val_acc: 0.6930\n",
            "Epoch 41/75\n",
            "1022/1022 [==============================] - 0s 127us/sample - loss: 0.4878 - acc: 0.7701 - val_loss: 0.6957 - val_acc: 0.6491\n",
            "Epoch 42/75\n",
            "1022/1022 [==============================] - 0s 133us/sample - loss: 0.4901 - acc: 0.7710 - val_loss: 0.7634 - val_acc: 0.6754\n",
            "Epoch 43/75\n",
            "1022/1022 [==============================] - 0s 126us/sample - loss: 0.4878 - acc: 0.7750 - val_loss: 0.7154 - val_acc: 0.6404\n",
            "Epoch 44/75\n",
            "1022/1022 [==============================] - 0s 124us/sample - loss: 0.4920 - acc: 0.7603 - val_loss: 0.7424 - val_acc: 0.6754\n",
            "Epoch 45/75\n",
            "1022/1022 [==============================] - 0s 124us/sample - loss: 0.4991 - acc: 0.7642 - val_loss: 0.7561 - val_acc: 0.6842\n",
            "Epoch 46/75\n",
            "1022/1022 [==============================] - 0s 121us/sample - loss: 0.4773 - acc: 0.7720 - val_loss: 0.7210 - val_acc: 0.6053\n",
            "Epoch 47/75\n",
            "1022/1022 [==============================] - 0s 131us/sample - loss: 0.4927 - acc: 0.7661 - val_loss: 0.6886 - val_acc: 0.6754\n",
            "Epoch 48/75\n",
            "1022/1022 [==============================] - 0s 125us/sample - loss: 0.5002 - acc: 0.7613 - val_loss: 0.7273 - val_acc: 0.6404\n",
            "Epoch 49/75\n",
            "1022/1022 [==============================] - 0s 126us/sample - loss: 0.5254 - acc: 0.7417 - val_loss: 0.7722 - val_acc: 0.6491\n",
            "Epoch 50/75\n",
            "1022/1022 [==============================] - 0s 130us/sample - loss: 0.4699 - acc: 0.7867 - val_loss: 0.7868 - val_acc: 0.6140\n",
            "Epoch 51/75\n",
            "1022/1022 [==============================] - 0s 117us/sample - loss: 0.4625 - acc: 0.7671 - val_loss: 0.6956 - val_acc: 0.6842\n",
            "Epoch 52/75\n",
            "1022/1022 [==============================] - 0s 126us/sample - loss: 0.4623 - acc: 0.7906 - val_loss: 0.7078 - val_acc: 0.6930\n",
            "Epoch 53/75\n",
            "1022/1022 [==============================] - 0s 126us/sample - loss: 0.4796 - acc: 0.7730 - val_loss: 0.7413 - val_acc: 0.6667\n",
            "Epoch 54/75\n",
            "1022/1022 [==============================] - 0s 134us/sample - loss: 0.5050 - acc: 0.7544 - val_loss: 0.7065 - val_acc: 0.6930\n",
            "Epoch 55/75\n",
            "1022/1022 [==============================] - 0s 129us/sample - loss: 0.4827 - acc: 0.7750 - val_loss: 0.7566 - val_acc: 0.6228\n",
            "Epoch 56/75\n",
            "1022/1022 [==============================] - 0s 128us/sample - loss: 0.5186 - acc: 0.7495 - val_loss: 0.7046 - val_acc: 0.5965\n",
            "Epoch 57/75\n",
            "1022/1022 [==============================] - 0s 115us/sample - loss: 0.4775 - acc: 0.7759 - val_loss: 0.7303 - val_acc: 0.6930\n",
            "Epoch 58/75\n",
            "1022/1022 [==============================] - 0s 131us/sample - loss: 0.4648 - acc: 0.7798 - val_loss: 0.7046 - val_acc: 0.6842\n",
            "Epoch 59/75\n",
            "1022/1022 [==============================] - 0s 125us/sample - loss: 0.4596 - acc: 0.7955 - val_loss: 0.7094 - val_acc: 0.6930\n",
            "Epoch 60/75\n",
            "1022/1022 [==============================] - 0s 128us/sample - loss: 0.4553 - acc: 0.7798 - val_loss: 0.6849 - val_acc: 0.6140\n",
            "Epoch 61/75\n",
            "1022/1022 [==============================] - 0s 113us/sample - loss: 0.5119 - acc: 0.7495 - val_loss: 0.7142 - val_acc: 0.6491\n",
            "Epoch 62/75\n",
            "1022/1022 [==============================] - 0s 122us/sample - loss: 0.4753 - acc: 0.7828 - val_loss: 0.7249 - val_acc: 0.6667\n",
            "Epoch 63/75\n",
            "1022/1022 [==============================] - 0s 134us/sample - loss: 0.4671 - acc: 0.7798 - val_loss: 0.7671 - val_acc: 0.6667\n",
            "Epoch 64/75\n",
            "1022/1022 [==============================] - 0s 115us/sample - loss: 0.4280 - acc: 0.8014 - val_loss: 0.7611 - val_acc: 0.6930\n",
            "Epoch 65/75\n",
            "1022/1022 [==============================] - 0s 129us/sample - loss: 0.4372 - acc: 0.8151 - val_loss: 0.6661 - val_acc: 0.6579\n",
            "Epoch 66/75\n",
            "1022/1022 [==============================] - 0s 128us/sample - loss: 0.4662 - acc: 0.7984 - val_loss: 0.7021 - val_acc: 0.6140\n",
            "Epoch 67/75\n",
            "1022/1022 [==============================] - 0s 128us/sample - loss: 0.4495 - acc: 0.7828 - val_loss: 0.8738 - val_acc: 0.7193\n",
            "Epoch 68/75\n",
            "1022/1022 [==============================] - 0s 116us/sample - loss: 0.4401 - acc: 0.7984 - val_loss: 0.7957 - val_acc: 0.7018\n",
            "Epoch 69/75\n",
            "1022/1022 [==============================] - 0s 116us/sample - loss: 0.4551 - acc: 0.7798 - val_loss: 0.7320 - val_acc: 0.6491\n",
            "Epoch 70/75\n",
            "1022/1022 [==============================] - 0s 123us/sample - loss: 0.4768 - acc: 0.7701 - val_loss: 0.7804 - val_acc: 0.6228\n",
            "Epoch 71/75\n",
            "1022/1022 [==============================] - 0s 128us/sample - loss: 0.4334 - acc: 0.8102 - val_loss: 0.7012 - val_acc: 0.6930\n",
            "Epoch 72/75\n",
            "1022/1022 [==============================] - 0s 131us/sample - loss: 0.4310 - acc: 0.7945 - val_loss: 0.7577 - val_acc: 0.7018\n",
            "Epoch 73/75\n",
            "1022/1022 [==============================] - 0s 140us/sample - loss: 0.4504 - acc: 0.7838 - val_loss: 0.7178 - val_acc: 0.6667\n",
            "Epoch 74/75\n",
            "1022/1022 [==============================] - 0s 124us/sample - loss: 0.4188 - acc: 0.8151 - val_loss: 0.7324 - val_acc: 0.6754\n",
            "Epoch 75/75\n",
            "1022/1022 [==============================] - 0s 129us/sample - loss: 0.4065 - acc: 0.8160 - val_loss: 0.7246 - val_acc: 0.6930\n"
          ],
          "name": "stdout"
        },
        {
          "output_type": "execute_result",
          "data": {
            "text/plain": [
              "<tensorflow.python.keras.callbacks.History at 0x7fc72018be80>"
            ]
          },
          "metadata": {
            "tags": []
          },
          "execution_count": 38
        }
      ]
    },
    {
      "cell_type": "code",
      "metadata": {
        "colab_type": "code",
        "id": "TiNaTgL9tYEV",
        "outputId": "99a15ed8-a348-42a4-c362-f6657ac8420a",
        "colab": {
          "base_uri": "https://localhost:8080/",
          "height": 1000
        }
      },
      "source": [
        "\n",
        "history=run_model.fit(images,labels, validation_split=0.10, shuffle=True, epochs =75)"
      ],
      "execution_count": 0,
      "outputs": [
        {
          "output_type": "stream",
          "text": [
            "Train on 1022 samples, validate on 114 samples\n",
            "Epoch 1/75\n",
            "1022/1022 [==============================] - 3s 3ms/sample - loss: 1.1053 - acc: 0.3474 - val_loss: 1.0972 - val_acc: 0.4298\n",
            "Epoch 2/75\n",
            "1022/1022 [==============================] - 0s 268us/sample - loss: 1.0991 - acc: 0.3464 - val_loss: 1.0959 - val_acc: 0.4386\n",
            "Epoch 3/75\n",
            "1022/1022 [==============================] - 0s 265us/sample - loss: 1.0939 - acc: 0.3620 - val_loss: 1.0883 - val_acc: 0.4737\n",
            "Epoch 4/75\n",
            "1022/1022 [==============================] - 0s 264us/sample - loss: 1.0381 - acc: 0.4569 - val_loss: 0.9456 - val_acc: 0.5614\n",
            "Epoch 5/75\n",
            "1022/1022 [==============================] - 0s 263us/sample - loss: 0.7866 - acc: 0.5822 - val_loss: 0.9018 - val_acc: 0.4912\n",
            "Epoch 6/75\n",
            "1022/1022 [==============================] - 0s 276us/sample - loss: 0.6920 - acc: 0.6292 - val_loss: 0.7275 - val_acc: 0.5877\n",
            "Epoch 7/75\n",
            "1022/1022 [==============================] - 0s 261us/sample - loss: 0.7183 - acc: 0.5969 - val_loss: 0.7357 - val_acc: 0.5526\n",
            "Epoch 8/75\n",
            "1022/1022 [==============================] - 0s 261us/sample - loss: 0.6450 - acc: 0.6233 - val_loss: 0.6967 - val_acc: 0.6140\n",
            "Epoch 9/75\n",
            "1022/1022 [==============================] - 0s 273us/sample - loss: 0.6533 - acc: 0.5988 - val_loss: 0.7022 - val_acc: 0.5965\n",
            "Epoch 10/75\n",
            "1022/1022 [==============================] - 0s 259us/sample - loss: 0.6552 - acc: 0.6135 - val_loss: 0.8077 - val_acc: 0.5789\n",
            "Epoch 11/75\n",
            "1022/1022 [==============================] - 0s 269us/sample - loss: 0.6710 - acc: 0.6125 - val_loss: 0.6685 - val_acc: 0.6404\n",
            "Epoch 12/75\n",
            "1022/1022 [==============================] - 0s 270us/sample - loss: 0.6349 - acc: 0.6174 - val_loss: 0.6487 - val_acc: 0.6228\n",
            "Epoch 13/75\n",
            "1022/1022 [==============================] - 0s 270us/sample - loss: 0.6197 - acc: 0.6311 - val_loss: 0.6497 - val_acc: 0.6491\n",
            "Epoch 14/75\n",
            "1022/1022 [==============================] - 0s 265us/sample - loss: 0.6290 - acc: 0.6341 - val_loss: 0.7707 - val_acc: 0.5702\n",
            "Epoch 15/75\n",
            "1022/1022 [==============================] - 0s 265us/sample - loss: 0.6486 - acc: 0.6429 - val_loss: 0.6280 - val_acc: 0.6316\n",
            "Epoch 16/75\n",
            "1022/1022 [==============================] - 0s 274us/sample - loss: 0.6173 - acc: 0.6800 - val_loss: 0.8675 - val_acc: 0.5702\n",
            "Epoch 17/75\n",
            "1022/1022 [==============================] - 0s 270us/sample - loss: 0.5957 - acc: 0.6937 - val_loss: 0.6538 - val_acc: 0.7281\n",
            "Epoch 18/75\n",
            "1022/1022 [==============================] - 0s 268us/sample - loss: 0.5470 - acc: 0.7573 - val_loss: 0.6376 - val_acc: 0.7105\n",
            "Epoch 19/75\n",
            "1022/1022 [==============================] - 0s 272us/sample - loss: 0.5314 - acc: 0.7544 - val_loss: 0.5852 - val_acc: 0.7368\n",
            "Epoch 20/75\n",
            "1022/1022 [==============================] - 0s 271us/sample - loss: 0.4892 - acc: 0.8131 - val_loss: 0.4322 - val_acc: 0.7895\n",
            "Epoch 21/75\n",
            "1022/1022 [==============================] - 0s 271us/sample - loss: 0.4722 - acc: 0.8023 - val_loss: 0.4304 - val_acc: 0.8596\n",
            "Epoch 22/75\n",
            "1022/1022 [==============================] - 0s 273us/sample - loss: 0.4187 - acc: 0.8356 - val_loss: 0.4155 - val_acc: 0.8421\n",
            "Epoch 23/75\n",
            "1022/1022 [==============================] - 0s 268us/sample - loss: 0.4204 - acc: 0.8395 - val_loss: 0.3336 - val_acc: 0.8860\n",
            "Epoch 24/75\n",
            "1022/1022 [==============================] - 0s 275us/sample - loss: 0.4218 - acc: 0.8327 - val_loss: 0.3861 - val_acc: 0.8684\n",
            "Epoch 25/75\n",
            "1022/1022 [==============================] - 0s 269us/sample - loss: 0.4329 - acc: 0.8346 - val_loss: 0.4445 - val_acc: 0.8860\n",
            "Epoch 26/75\n",
            "1022/1022 [==============================] - 0s 270us/sample - loss: 0.3619 - acc: 0.8601 - val_loss: 0.2947 - val_acc: 0.8947\n",
            "Epoch 27/75\n",
            "1022/1022 [==============================] - 0s 280us/sample - loss: 0.3144 - acc: 0.8982 - val_loss: 0.2902 - val_acc: 0.9123\n",
            "Epoch 28/75\n",
            "1022/1022 [==============================] - 0s 268us/sample - loss: 0.3298 - acc: 0.8855 - val_loss: 0.4232 - val_acc: 0.8333\n",
            "Epoch 29/75\n",
            "1022/1022 [==============================] - 0s 272us/sample - loss: 0.3242 - acc: 0.8836 - val_loss: 0.2889 - val_acc: 0.9035\n",
            "Epoch 30/75\n",
            "1022/1022 [==============================] - 0s 273us/sample - loss: 0.3831 - acc: 0.8718 - val_loss: 0.3413 - val_acc: 0.8596\n",
            "Epoch 31/75\n",
            "1022/1022 [==============================] - 0s 275us/sample - loss: 0.2833 - acc: 0.9041 - val_loss: 0.3052 - val_acc: 0.8860\n",
            "Epoch 32/75\n",
            "1022/1022 [==============================] - 0s 275us/sample - loss: 0.2912 - acc: 0.9051 - val_loss: 0.3749 - val_acc: 0.8684\n",
            "Epoch 33/75\n",
            "1022/1022 [==============================] - 0s 272us/sample - loss: 0.3845 - acc: 0.8581 - val_loss: 0.3517 - val_acc: 0.8772\n",
            "Epoch 34/75\n",
            "1022/1022 [==============================] - 0s 267us/sample - loss: 0.3057 - acc: 0.8943 - val_loss: 0.2523 - val_acc: 0.9211\n",
            "Epoch 35/75\n",
            "1022/1022 [==============================] - 0s 277us/sample - loss: 0.3052 - acc: 0.8894 - val_loss: 0.3514 - val_acc: 0.8509\n",
            "Epoch 36/75\n",
            "1022/1022 [==============================] - 0s 274us/sample - loss: 0.2907 - acc: 0.9002 - val_loss: 0.3333 - val_acc: 0.8860\n",
            "Epoch 37/75\n",
            "1022/1022 [==============================] - 0s 285us/sample - loss: 0.2851 - acc: 0.9051 - val_loss: 0.2416 - val_acc: 0.9386\n",
            "Epoch 38/75\n",
            "1022/1022 [==============================] - 0s 273us/sample - loss: 0.2468 - acc: 0.9139 - val_loss: 0.3337 - val_acc: 0.8772\n",
            "Epoch 39/75\n",
            "1022/1022 [==============================] - 0s 271us/sample - loss: 0.2923 - acc: 0.8904 - val_loss: 0.2690 - val_acc: 0.8947\n",
            "Epoch 40/75\n",
            "1022/1022 [==============================] - 0s 270us/sample - loss: 0.2310 - acc: 0.9256 - val_loss: 0.2671 - val_acc: 0.9123\n",
            "Epoch 41/75\n",
            "1022/1022 [==============================] - 0s 263us/sample - loss: 0.2022 - acc: 0.9315 - val_loss: 0.2140 - val_acc: 0.9123\n",
            "Epoch 42/75\n",
            "1022/1022 [==============================] - 0s 275us/sample - loss: 0.1952 - acc: 0.9325 - val_loss: 0.3239 - val_acc: 0.9123\n",
            "Epoch 43/75\n",
            "1022/1022 [==============================] - 0s 272us/sample - loss: 0.2491 - acc: 0.9178 - val_loss: 0.3237 - val_acc: 0.8772\n",
            "Epoch 44/75\n",
            "1022/1022 [==============================] - 0s 267us/sample - loss: 0.2662 - acc: 0.9090 - val_loss: 0.2671 - val_acc: 0.9035\n",
            "Epoch 45/75\n",
            "1022/1022 [==============================] - 0s 272us/sample - loss: 0.2649 - acc: 0.9080 - val_loss: 0.2700 - val_acc: 0.8860\n",
            "Epoch 46/75\n",
            "1022/1022 [==============================] - 0s 270us/sample - loss: 0.2033 - acc: 0.9305 - val_loss: 0.2654 - val_acc: 0.8860\n",
            "Epoch 47/75\n",
            "1022/1022 [==============================] - 0s 270us/sample - loss: 0.2456 - acc: 0.9266 - val_loss: 0.4438 - val_acc: 0.8860\n",
            "Epoch 48/75\n",
            "1022/1022 [==============================] - 0s 266us/sample - loss: 0.2196 - acc: 0.9276 - val_loss: 0.2238 - val_acc: 0.9123\n",
            "Epoch 49/75\n",
            "1022/1022 [==============================] - 0s 275us/sample - loss: 0.2023 - acc: 0.9364 - val_loss: 0.2217 - val_acc: 0.9123\n",
            "Epoch 50/75\n",
            "1022/1022 [==============================] - 0s 271us/sample - loss: 0.2206 - acc: 0.9266 - val_loss: 0.2263 - val_acc: 0.9123\n",
            "Epoch 51/75\n",
            "1022/1022 [==============================] - 0s 272us/sample - loss: 0.1884 - acc: 0.9374 - val_loss: 0.1784 - val_acc: 0.9386\n",
            "Epoch 52/75\n",
            "1022/1022 [==============================] - 0s 268us/sample - loss: 0.1875 - acc: 0.9384 - val_loss: 0.2450 - val_acc: 0.9211\n",
            "Epoch 53/75\n",
            "1022/1022 [==============================] - 0s 282us/sample - loss: 0.1751 - acc: 0.9423 - val_loss: 0.3226 - val_acc: 0.9035\n",
            "Epoch 54/75\n",
            "1022/1022 [==============================] - 0s 269us/sample - loss: 0.2121 - acc: 0.9335 - val_loss: 0.2562 - val_acc: 0.8947\n",
            "Epoch 55/75\n",
            "1022/1022 [==============================] - 0s 272us/sample - loss: 0.1813 - acc: 0.9413 - val_loss: 0.2230 - val_acc: 0.9035\n",
            "Epoch 56/75\n",
            "1022/1022 [==============================] - 0s 274us/sample - loss: 0.1985 - acc: 0.9344 - val_loss: 0.1939 - val_acc: 0.9211\n",
            "Epoch 57/75\n",
            "1022/1022 [==============================] - 0s 268us/sample - loss: 0.2497 - acc: 0.9237 - val_loss: 0.3094 - val_acc: 0.8947\n",
            "Epoch 58/75\n",
            "1022/1022 [==============================] - 0s 268us/sample - loss: 0.1752 - acc: 0.9413 - val_loss: 0.2536 - val_acc: 0.9211\n",
            "Epoch 59/75\n",
            "1022/1022 [==============================] - 0s 272us/sample - loss: 0.1725 - acc: 0.9384 - val_loss: 0.1777 - val_acc: 0.9386\n",
            "Epoch 60/75\n",
            "1022/1022 [==============================] - 0s 275us/sample - loss: 0.2092 - acc: 0.9335 - val_loss: 0.2122 - val_acc: 0.9386\n",
            "Epoch 61/75\n",
            "1022/1022 [==============================] - 0s 273us/sample - loss: 0.1675 - acc: 0.9550 - val_loss: 0.2603 - val_acc: 0.9035\n",
            "Epoch 62/75\n",
            "1022/1022 [==============================] - 0s 269us/sample - loss: 0.2047 - acc: 0.9364 - val_loss: 0.4221 - val_acc: 0.8684\n",
            "Epoch 63/75\n",
            "1022/1022 [==============================] - 0s 272us/sample - loss: 0.2201 - acc: 0.9364 - val_loss: 0.2111 - val_acc: 0.9298\n",
            "Epoch 64/75\n",
            "1022/1022 [==============================] - 0s 273us/sample - loss: 0.1707 - acc: 0.9521 - val_loss: 0.1821 - val_acc: 0.9298\n",
            "Epoch 65/75\n",
            "1022/1022 [==============================] - 0s 264us/sample - loss: 0.1721 - acc: 0.9521 - val_loss: 0.2136 - val_acc: 0.9298\n",
            "Epoch 66/75\n",
            "1022/1022 [==============================] - 0s 264us/sample - loss: 0.2503 - acc: 0.9119 - val_loss: 0.2220 - val_acc: 0.9211\n",
            "Epoch 67/75\n",
            "1022/1022 [==============================] - 0s 272us/sample - loss: 0.1744 - acc: 0.9393 - val_loss: 0.2048 - val_acc: 0.9123\n",
            "Epoch 68/75\n",
            "1022/1022 [==============================] - 0s 263us/sample - loss: 0.1747 - acc: 0.9442 - val_loss: 0.2227 - val_acc: 0.8860\n",
            "Epoch 69/75\n",
            "1022/1022 [==============================] - 0s 267us/sample - loss: 0.1600 - acc: 0.9452 - val_loss: 0.1868 - val_acc: 0.9211\n",
            "Epoch 70/75\n",
            "1022/1022 [==============================] - 0s 269us/sample - loss: 0.1548 - acc: 0.9521 - val_loss: 0.1933 - val_acc: 0.9211\n",
            "Epoch 71/75\n",
            "1022/1022 [==============================] - 0s 279us/sample - loss: 0.1672 - acc: 0.9354 - val_loss: 0.3482 - val_acc: 0.8860\n",
            "Epoch 72/75\n",
            "1022/1022 [==============================] - 0s 271us/sample - loss: 0.1995 - acc: 0.9335 - val_loss: 0.2160 - val_acc: 0.9211\n",
            "Epoch 73/75\n",
            "1022/1022 [==============================] - 0s 279us/sample - loss: 0.1459 - acc: 0.9481 - val_loss: 0.1898 - val_acc: 0.9123\n",
            "Epoch 74/75\n",
            "1022/1022 [==============================] - 0s 273us/sample - loss: 0.1552 - acc: 0.9511 - val_loss: 0.1748 - val_acc: 0.9298\n",
            "Epoch 75/75\n",
            "1022/1022 [==============================] - 0s 269us/sample - loss: 0.1509 - acc: 0.9481 - val_loss: 0.1701 - val_acc: 0.9123\n"
          ],
          "name": "stdout"
        }
      ]
    },
    {
      "cell_type": "markdown",
      "metadata": {
        "id": "PpSF6dduYPpb",
        "colab_type": "text"
      },
      "source": [
        "### Plot Training Results:"
      ]
    },
    {
      "cell_type": "code",
      "metadata": {
        "id": "qMsY0rrCWJLh",
        "colab_type": "code",
        "outputId": "dc151161-5937-4325-aaed-41248a485ffd",
        "colab": {
          "base_uri": "https://localhost:8080/",
          "height": 573
        }
      },
      "source": [
        "\n",
        "plt.style.use('dark_background')\n",
        "# Plot training & validation accuracy values\n",
        "plt.plot(history.history['acc'],'r--',history.history['val_acc'],'b--')\n",
        "plt.title('Model accuracy')\n",
        "plt.ylabel('Accuracy')\n",
        "plt.xlabel('Epoch')\n",
        "plt.legend(['Train', 'Test'], loc='upper left')\n",
        "\n",
        "plt.grid()\n",
        "plt.show()\n",
        "\n",
        "# Plot training & validation loss values\n",
        "plt.plot(history.history['loss'],'r--',history.history['val_loss'],'b--')\n",
        "plt.title('Model loss')\n",
        "plt.ylabel('Loss')\n",
        "plt.xlabel('Epoch')\n",
        "plt.legend(['Train', 'Test'], loc='upper right')\n",
        "plt.grid()\n",
        "plt.show()"
      ],
      "execution_count": 0,
      "outputs": [
        {
          "output_type": "display_data",
          "data": {
            "image/png": "[encoded data removed]",
            "text/plain": [
              "<Figure size 432x288 with 1 Axes>"
            ]
          },
          "metadata": {
            "tags": []
          }
        },
        {
          "output_type": "display_data",
          "data": {
            "image/png": "[encoded data removed]",
            "text/plain": [
              "<Figure size 432x288 with 1 Axes>"
            ]
          },
          "metadata": {
            "tags": []
          }
        }
      ]
    },
    {
      "cell_type": "markdown",
      "metadata": {
        "id": "ase4vfgidDpx",
        "colab_type": "text"
      },
      "source": [
        "#Saving the Model(s)"
      ]
    },
    {
      "cell_type": "code",
      "metadata": {
        "id": "4zQ7LLPUdHyB",
        "colab_type": "code",
        "outputId": "4c346d1f-e66b-4c06-be99-4091d63c90ef",
        "colab": {
          "base_uri": "https://localhost:8080/",
          "height": 34
        }
      },
      "source": [
        "from google.colab import drive \n",
        "drive.mount('/content/gdrive')\n"
      ],
      "execution_count": 0,
      "outputs": [
        {
          "output_type": "stream",
          "text": [
            "Drive already mounted at /content/gdrive; to attempt to forcibly remount, call drive.mount(\"/content/gdrive\", force_remount=True).\n"
          ],
          "name": "stdout"
        }
      ]
    },
    {
      "cell_type": "code",
      "metadata": {
        "id": "EiegehsExm7D",
        "colab_type": "code",
        "colab": {}
      },
      "source": [
        "tf.keras.models.save_model(\n",
        "   MarkI_model,\n",
        "  '/content/gdrive/My Drive/MarkI_model',\n",
        "   overwrite=True,\n",
        "    include_optimizer=True,\n",
        "    save_format=None\n",
        ")"
      ],
      "execution_count": 0,
      "outputs": []
    },
    {
      "cell_type": "code",
      "metadata": {
        "colab_type": "code",
        "id": "tMWFrRjd8HHl",
        "colab": {}
      },
      "source": [
        "tf.keras.models.save_model(\n",
        "   MarkII_model,\n",
        "  '/content/gdrive/My Drive/MarkII_model',\n",
        "   overwrite=True,\n",
        "    include_optimizer=True,\n",
        "    save_format=None\n",
        ")"
      ],
      "execution_count": 0,
      "outputs": []
    },
    {
      "cell_type": "code",
      "metadata": {
        "colab_type": "code",
        "id": "evyKSLEN8O-v",
        "colab": {}
      },
      "source": [
        "tf.keras.models.save_model(\n",
        "   MarkIV_CNN_model,\n",
        "  '/content/gdrive/My Drive/MarkIV_CNN_model',\n",
        "   overwrite=True,\n",
        "    include_optimizer=True,\n",
        "    save_format=None\n",
        ")"
      ],
      "execution_count": 0,
      "outputs": []
    },
    {
      "cell_type": "code",
      "metadata": {
        "id": "UJy2Nib6_A5h",
        "colab_type": "code",
        "outputId": "fc18dcab-3d18-4286-9986-2011a893c880",
        "colab": {
          "base_uri": "https://localhost:8080/",
          "height": 34
        }
      },
      "source": [
        "print('THE END')"
      ],
      "execution_count": 0,
      "outputs": [
        {
          "output_type": "stream",
          "text": [
            "THE END\n"
          ],
          "name": "stdout"
        }
      ]
    },
    {
      "cell_type": "code",
      "metadata": {
        "id": "wuzBlxr34d8v",
        "colab_type": "code",
        "colab": {}
      },
      "source": [
        ""
      ],
      "execution_count": 0,
      "outputs": []
    }
  ]
}