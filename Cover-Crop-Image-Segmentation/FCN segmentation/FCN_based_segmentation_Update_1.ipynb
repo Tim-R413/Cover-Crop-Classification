{
  "nbformat": 4,
  "nbformat_minor": 0,
  "metadata": {
    "colab": {
      "name": "FCN based segmentation-Update 1 ",
      "provenance": [],
      "include_colab_link": true
    },
    "kernelspec": {
      "name": "python3",
      "display_name": "Python 3"
    }
  },
  "cells": [
    {
      "cell_type": "markdown",
      "metadata": {
        "id": "view-in-github",
        "colab_type": "text"
      },
      "source": [
        "<a href=\"https://colab.research.google.com/github/Tim-R413/Cover-Crop-Classification/blob/master/Cover-Crop-Image-Segmentation/FCN%20segmentation/FCN_based_segmentation_Update_1.ipynb\" target=\"_parent\"><img src=\"https://colab.research.google.com/assets/colab-badge.svg\" alt=\"Open In Colab\"/></a>"
      ]
    },
    {
      "cell_type": "code",
      "metadata": {
        "id": "AAHPE3HqaXv7",
        "colab_type": "code",
        "colab": {}
      },
      "source": [
        "\n",
        "import os\n",
        "import cv2\n",
        "import matplotlib.pyplot as plt\n",
        "from PIL import Image\n",
        "import json\n",
        "import numpy as np\n",
        "import imgaug as ia\n",
        "from imgaug import augmenters as iaa"
      ],
      "execution_count": 0,
      "outputs": []
    },
    {
      "cell_type": "code",
      "metadata": {
        "id": "WBhzNqonb71n",
        "colab_type": "code",
        "colab": {}
      },
      "source": [
        "\n",
        "def plot_pair(images, gray=False):\n",
        "\n",
        "    fig, axes = plt.subplots(nrows=1, ncols=2, sharex=False, sharey=False, figsize=(10,8))\n",
        "    i=0\n",
        "    \n",
        "    for y in range(2):\n",
        "        if gray:\n",
        "            axes[y].imshow(images[i], cmap='gray')\n",
        "        else:\n",
        "            axes[y].imshow(images[i])\n",
        "        axes[y].get_xaxis().set_visible(False)\n",
        "        axes[y].get_yaxis().set_visible(False)\n",
        "        i+=1\n",
        "    \n",
        "    plt.show()"
      ],
      "execution_count": 0,
      "outputs": []
    },
    {
      "cell_type": "code",
      "metadata": {
        "id": "AoiPpn4-d-2E",
        "colab_type": "code",
        "colab": {}
      },
      "source": [
        "def get_poly(ann_path):\n",
        "    \n",
        "    with open(ann_path) as handle:\n",
        "        data = json.load(handle)\n",
        "    \n",
        "    covcrop_dicts = data['shapes']\n",
        "    \n",
        "    return covcrop_dicts"
      ],
      "execution_count": 0,
      "outputs": []
    },
    {
      "cell_type": "code",
      "metadata": {
        "id": "hjtcFOx9kId7",
        "colab_type": "code",
        "colab": {
          "base_uri": "https://localhost:8080/",
          "height": 34
        },
        "outputId": "ce90a963-dd32-4cfa-e8ed-4f72e4326bbb"
      },
      "source": [
        "from google.colab import drive\n",
        "drive.mount('/content/drive')"
      ],
      "execution_count": 7,
      "outputs": [
        {
          "output_type": "stream",
          "text": [
            "Drive already mounted at /content/drive; to attempt to forcibly remount, call drive.mount(\"/content/drive\", force_remount=True).\n"
          ],
          "name": "stdout"
        }
      ]
    },
    {
      "cell_type": "code",
      "metadata": {
        "id": "M6uKgvxI4hz6",
        "colab_type": "code",
        "colab": {
          "base_uri": "https://localhost:8080/",
          "height": 34
        },
        "outputId": "483877f2-1a3a-4372-b3f4-b779c4bc3992"
      },
      "source": [
        "!unzip /content/drive/My Drive/CC Image Segmentation/images/seg-img-dataset.zip\n"
      ],
      "execution_count": 8,
      "outputs": [
        {
          "output_type": "stream",
          "text": [
            "unzip:  cannot find or open /content/drive/My, /content/drive/My.zip or /content/drive/My.ZIP.\n"
          ],
          "name": "stdout"
        }
      ]
    },
    {
      "cell_type": "code",
      "metadata": {
        "id": "sbQKL564kJk8",
        "colab_type": "code",
        "colab": {}
      },
      "source": [
        "\n",
        "image_list = sorted(os.listdir('images'), key=lambda x: int(x.split('.')[0]))\n",
        "annot_list = sorted(os.listdir('annotated'), key=lambda x: int(x.split('.')[0]))\n",
        "\n",
        "for im_fn, ann_fn in zip(image_list, annot_list):\n",
        "    \n",
        "    im = cv2.imread(os.path.join('images', im_fn), 0)\n",
        "    \n",
        "    ann_path = os.path.join('annotated', ann_fn)\n",
        "    covcrop_dicts = get_poly(ann_path)\n",
        "    im_binary = create_binary_masks(im, shape_dicts)\n",
        "    \n",
        "    plot_pair([im, im_binary], gray=True)\n",
        "    plt.show()\n",
        "    break"
      ],
      "execution_count": 0,
      "outputs": []
    }
  ]
}