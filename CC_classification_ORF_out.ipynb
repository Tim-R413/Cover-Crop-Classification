{
  "nbformat": 4,
  "nbformat_minor": 0,
  "metadata": {
    "colab": {
      "name": "CC classification -ORF out ",
      "version": "0.3.2",
      "provenance": [],
      "collapsed_sections": [
        "K7YXyISy_Hhu",
        "nh7WZ7LPvqPj",
        "-TcKUosQvys9",
        "AzHYisNZtYCZ"
      ],
      "include_colab_link": true
    },
    "kernelspec": {
      "name": "python3",
      "display_name": "Python 3"
    },
    "accelerator": "GPU"
  },
  "cells": [
    {
      "cell_type": "markdown",
      "metadata": {
        "id": "view-in-github",
        "colab_type": "text"
      },
      "source": [
        "<a href=\"https://colab.research.google.com/github/Tim-R413/Cover-Crop-Classification/blob/master/CC_classification_ORF_out.ipynb\" target=\"_parent\"><img src=\"https://colab.research.google.com/assets/colab-badge.svg\" alt=\"Open In Colab\"/></a>"
      ]
    },
    {
      "cell_type": "markdown",
      "metadata": {
        "id": "K7YXyISy_Hhu",
        "colab_type": "text"
      },
      "source": [
        "###Preparation:"
      ]
    },
    {
      "cell_type": "code",
      "metadata": {
        "id": "W9JrjqQ9ylLu",
        "colab_type": "code",
        "outputId": "d05bf36e-0a07-4a8b-b762-31c0e57d5116",
        "colab": {
          "base_uri": "https://localhost:8080/"
        }
      },
      "source": [
        "\n",
        "% cd /content\n",
        "\n",
        "#!pwd\n",
        "!ls"
      ],
      "execution_count": 0,
      "outputs": [
        {
          "output_type": "stream",
          "text": [
            "/content\n",
            "sample_data\n"
          ],
          "name": "stdout"
        }
      ]
    },
    {
      "cell_type": "markdown",
      "metadata": {
        "id": "VgtuhLm4Rcdy",
        "colab_type": "text"
      },
      "source": [
        ""
      ]
    },
    {
      "cell_type": "code",
      "metadata": {
        "id": "XBGPe0Zrjh2F",
        "colab_type": "code",
        "colab": {}
      },
      "source": [
        ""
      ],
      "execution_count": 0,
      "outputs": []
    },
    {
      "cell_type": "markdown",
      "metadata": {
        "id": "nPkRK1cEjwuy",
        "colab_type": "text"
      },
      "source": [
        "# Cover Crop Classification using Tensorflow-Data Preprocessing and Model Framing \n"
      ]
    },
    {
      "cell_type": "markdown",
      "metadata": {
        "id": "FDyA3tKVj9YA",
        "colab_type": "text"
      },
      "source": [
        "\n",
        "\n",
        " This is a Google Colab notebook containing the training code for a Machine Learning model of an image classfier created to identify species of cover crops both specific and mixtures. The following are categories that the model is trained to classify.\n",
        "\n",
        ">Specific Species Categories: Canola, Clover, Triticale, Pea \n",
        ">Mixed species Categories:  \n",
        "\n"
      ]
    },
    {
      "cell_type": "code",
      "metadata": {
        "id": "5fV6ZHgxqoar",
        "colab_type": "code",
        "colab": {}
      },
      "source": [
        "PIXEL_resolution = 16\n"
      ],
      "execution_count": 0,
      "outputs": []
    },
    {
      "cell_type": "markdown",
      "metadata": {
        "id": "GCfeftiH--bt",
        "colab_type": "text"
      },
      "source": [
        "##Setup:"
      ]
    },
    {
      "cell_type": "code",
      "metadata": {
        "id": "TkoKno5ypyqy",
        "colab_type": "code",
        "outputId": "e54f2821-f816-47c7-8f4e-62d213df7ad9",
        "colab": {
          "base_uri": "https://localhost:8080/",
          "height": 51
        }
      },
      "source": [
        "# Tensorflow and tf.Keras APIs \n",
        "import tensorflow as tf \n",
        "from tensorflow import keras\n",
        "from keras.layers import Dense, Conv2D, Flatten, Activation, Flatten, MaxPooling2D, Dropout,AveragePooling2D\n",
        "print(tf.__version__)"
      ],
      "execution_count": 0,
      "outputs": [
        {
          "output_type": "stream",
          "text": [
            "1.14.0\n"
          ],
          "name": "stdout"
        },
        {
          "output_type": "stream",
          "text": [
            "Using TensorFlow backend.\n"
          ],
          "name": "stderr"
        }
      ]
    },
    {
      "cell_type": "code",
      "metadata": {
        "id": "7nk9tbwLj0ff",
        "colab_type": "code",
        "colab": {}
      },
      "source": [
        "# Supplementing/ helper Libraries \n",
        "import numpy as np \n",
        "import matplotlib.pyplot as plt \n",
        "import glob \n",
        "import os \n",
        "import re \n",
        "import math\n",
        "\n",
        "# Python Image Library \n",
        "import PIL \n",
        "from PIL import Image"
      ],
      "execution_count": 0,
      "outputs": []
    },
    {
      "cell_type": "code",
      "metadata": {
        "id": "gHy3zFA2NZSw",
        "colab_type": "code",
        "colab": {}
      },
      "source": [
        ""
      ],
      "execution_count": 0,
      "outputs": []
    },
    {
      "cell_type": "code",
      "metadata": {
        "colab_type": "code",
        "id": "KT6CcaqgQewg",
        "colab": {}
      },
      "source": [
        "AUTOTUNE = tf.data.experimental.AUTOTUNE"
      ],
      "execution_count": 0,
      "outputs": []
    },
    {
      "cell_type": "markdown",
      "metadata": {
        "id": "pFI5Sb4v5iFt",
        "colab_type": "text"
      },
      "source": [
        "data is uploaded from google drive instead of github repository \n",
        "\n",
        "\n"
      ]
    },
    {
      "cell_type": "code",
      "metadata": {
        "id": "4zQ7LLPUdHyB",
        "colab_type": "code",
        "outputId": "cc879485-bf41-44b5-c6fc-3dc13663c45b",
        "colab": {
          "base_uri": "https://localhost:8080/",
          "height": 122
        }
      },
      "source": [
        "from google.colab import drive \n",
        "drive.mount('/content/gdrive')\n"
      ],
      "execution_count": 0,
      "outputs": [
        {
          "output_type": "stream",
          "text": [
            "Go to this URL in a browser: https://accounts.google.com/o/oauth2/auth?client_id=947318989803-6bn6qk8qdgf4n4g3pfee6491hc0brc4i.apps.googleusercontent.com&redirect_uri=urn%3Aietf%3Awg%3Aoauth%3A2.0%3Aoob&scope=email%20https%3A%2F%2Fwww.googleapis.com%2Fauth%2Fdocs.test%20https%3A%2F%2Fwww.googleapis.com%2Fauth%2Fdrive%20https%3A%2F%2Fwww.googleapis.com%2Fauth%2Fdrive.photos.readonly%20https%3A%2F%2Fwww.googleapis.com%2Fauth%2Fpeopleapi.readonly&response_type=code\n",
            "\n",
            "Enter your authorization code:\n",
            "··········\n",
            "Mounted at /content/gdrive\n"
          ],
          "name": "stdout"
        }
      ]
    },
    {
      "cell_type": "code",
      "metadata": {
        "id": "M21D9gPuKxYt",
        "colab_type": "code",
        "colab": {}
      },
      "source": [
        "# !git clone   https://github.com/Tim-R413/Cover-Crop-Classification.git"
      ],
      "execution_count": 0,
      "outputs": []
    },
    {
      "cell_type": "markdown",
      "metadata": {
        "id": "MmFK3XmIVhXj",
        "colab_type": "text"
      },
      "source": [
        "#Loading in and Preprocessing the datasets "
      ]
    },
    {
      "cell_type": "markdown",
      "metadata": {
        "id": "nh7WZ7LPvqPj",
        "colab_type": "text"
      },
      "source": [
        "##**Define** image preprocessing functions:"
      ]
    },
    {
      "cell_type": "code",
      "metadata": {
        "id": "K8S9no6zMOk6",
        "colab_type": "code",
        "colab": {}
      },
      "source": [
        "# Use Pillow library to convert an input jpeg to a 8 bit grey scale image array for processing.\n",
        "def jpeg_to_8_bit_greyscale(path, photo_size):\n",
        "        img = Image.open(path) #.convert('L')   # convert image to 8-bit grayscale\n",
        "        # Make aspect ratio as 1:1, by applying image crop. this converts the images into sqaures\n",
        "\n",
        "        Width, Height = img.size\n",
        "        if Width != Height:\n",
        "                m_min_d = min(Width, Height)\n",
        "                img = img.crop((0, 0, m_min_d, m_min_d))\n",
        "        # Scale the image to the requested max photo size by Anti-alias sampling.\n",
        "        img.thumbnail(photo_size, PIL.Image.ANTIALIAS)\n",
        "        return np.asarray(img)"
      ],
      "execution_count": 0,
      "outputs": []
    },
    {
      "cell_type": "code",
      "metadata": {
        "id": "X3itE22zMOK1",
        "colab_type": "code",
        "colab": {}
      },
      "source": [
        "# Define a function that loads dataset from images into numpy arrays (used for new instances/ testing data):\n",
        "\n",
        "def load_image_dataset(dir_path, photo_size):\n",
        "        images = []\n",
        "        labels = []\n",
        "        os.chdir(dir_path)\n",
        "        for file in glob.glob(\"*.JPG\"):\n",
        "                img = jpeg_to_8_bit_greyscale(file, photo_size)\n",
        "                if re.match('Canola*', file):\n",
        "                        images.append(img)\n",
        "                        labels.append(0)\n",
        "                elif re.match('Clover*', file):\n",
        "                        images.append(img)\n",
        "                        labels.append(1)\n",
        "                elif re.match('Triticale*', file):\n",
        "                        images.append(img)\n",
        "                        labels.append(2)\n",
        "        for file in glob.glob(\"*.jpg\"):\n",
        "                img = jpeg_to_8_bit_greyscale(file, photo_size)\n",
        "                if re.match('Canola*', file):\n",
        "                        images.append(img)\n",
        "                        labels.append(0)\n",
        "                elif re.match('Clover*', file):\n",
        "                        images.append(img)\n",
        "                        labels.append(1)\n",
        "                elif re.match('Triticale*', file):\n",
        "                        images.append(img)\n",
        "                        labels.append(2)\n",
        "                \n",
        "        return (np.asarray(images), np.asarray(labels))"
      ],
      "execution_count": 0,
      "outputs": []
    },
    {
      "cell_type": "markdown",
      "metadata": {
        "id": "_7cP76UrzwiF",
        "colab_type": "text"
      },
      "source": [
        "###REVISED FUNCTIONS that divide images into 9 parts then fill the images and labels dataset arrays "
      ]
    },
    {
      "cell_type": "markdown",
      "metadata": {
        "id": "_Zfco9Co48o8",
        "colab_type": "text"
      },
      "source": [
        ""
      ]
    },
    {
      "cell_type": "code",
      "metadata": {
        "colab_type": "code",
        "id": "TvHArhpRq09A",
        "colab": {}
      },
      "source": [
        "\n",
        "\n",
        "# define a function that crops each full image into 9 seperate size equivalent images  \n",
        "def image_division (file_path, photo_size):\n",
        "  full_img = Image.open(file_path) #.convert('L')\n",
        "  \n",
        "   # Make aspect ratio as 1:1, by applying image crop. this converts the images into sqaures\n",
        "  Width, Height = full_img.size\n",
        "  if Width != Height:\n",
        "                m_min_d = min(Width, Height)\n",
        "                full_img = full_img.crop((0, 0, m_min_d, m_min_d))\n",
        "  \n",
        "  # Splits the square image into 5 individual images, each cropped to 1/16 the size of the original image \n",
        "  # And Scales the image to the requested max photo size by Anti-alias sampling.\n",
        "  DF = m_min_d\n",
        "  DM = math.floor(DF / 4  )\n",
        "  A = full_img.crop((0, 0, DM, DM)).resize(photo_size, PIL.Image.ANTIALIAS)\n",
        "  B = full_img.crop((DM,0,2*DM,DM)).resize(photo_size, PIL.Image.ANTIALIAS)\n",
        "  C = full_img.crop((2*DM,0,3*DM,DM)).resize(photo_size, PIL.Image.ANTIALIAS)\n",
        "  D = full_img.crop((3*DM,0,DF,DM)).resize(photo_size, PIL.Image.ANTIALIAS)\n",
        "\n",
        "  E = full_img.crop((0,DM,DM,2*DM)).resize(photo_size, PIL.Image.ANTIALIAS)\n",
        "  F = full_img.crop((DM,DM,2*DM,2*DM)).resize(photo_size, PIL.Image.ANTIALIAS)\n",
        "  G = full_img.crop((2*DM,DM,3*DM,2*DM)).resize(photo_size, PIL.Image.ANTIALIAS)\n",
        "  H = full_img.crop((3*DM,DM,DF,2*DM)).resize(photo_size, PIL.Image.ANTIALIAS)\n",
        "\n",
        "  I = full_img.crop((0,2*DM,DM,3*DM)).resize(photo_size, PIL.Image.ANTIALIAS)\n",
        "  J = full_img.crop((DM,2*DM,2*DM,3*DM)).resize(photo_size, PIL.Image.ANTIALIAS)\n",
        "  K = full_img.crop((2*DM,2*DM,3*DM,3*DM)).resize(photo_size, PIL.Image.ANTIALIAS)\n",
        "  L = full_img.crop((3*DM,2*DM,DF,3*DM)).resize(photo_size, PIL.Image.ANTIALIAS)\n",
        "\n",
        "  M = full_img.crop((0,3*DM,DM,DF)).resize(photo_size, PIL.Image.ANTIALIAS)\n",
        "  N = full_img.crop((DM,3*DM,2*DM,DF)).resize(photo_size, PIL.Image.ANTIALIAS)\n",
        "  O = full_img.crop((2*DM,3*DM,3*DM,DF)).resize(photo_size, PIL.Image.ANTIALIAS)\n",
        "  P = full_img.crop((3*DM,3*DM,DF,DF)).resize(photo_size, PIL.Image.ANTIALIAS)\n",
        "\n",
        "\n",
        "    \n",
        "  # returns each individual image as its own Numpy arra\n",
        "  \n",
        "  return np.asarray(A), np.asarray(B), np.asarray(C), np.asarray(D), np.asarray(E), np.asarray(F), np.asarray(G), np.asarray(H), np.asarray(I), np.asarray(J), np.asarray(K), np.asarray(L), np.asarray(M), np.asarray(N), np.asarray(O), np.asarray(P)"
      ],
      "execution_count": 0,
      "outputs": []
    },
    {
      "cell_type": "code",
      "metadata": {
        "colab_type": "code",
        "id": "BnpMayvmrFuT",
        "colab": {}
      },
      "source": [
        "# define a function that maximizes the number of elemaets in a dataset by adding the cropped and scaled smaller images as their own peice of data \n",
        "def maximize_image_dataset (dir_path, photo_size):\n",
        "  images = []\n",
        "  labels=[]\n",
        "  os.chdir(dir_path)\n",
        "  \n",
        "      # analyzes each image file in the designated folder and uses th eimage_division function to extract 5 seperate images from that larger image\n",
        "  for file in glob.glob(\"*.JPG\"):\n",
        "    \n",
        "        img_A, img_B, img_C, img_D, img_E, img_F, img_G, img_H, img_I, img_J, img_K, img_L, img_M, img_N, img_O, img_P= image_division(file, photo_size)\n",
        "        img_set = [img_A, img_B, img_C, img_D, img_E, img_F, img_G, img_H, img_I, img_J, img_K, img_L, img_M, img_N, img_O, img_P]\n",
        "        how_many = len(img_set)\n",
        "          \n",
        "        # appends each mini image to the 'images' dataset and appends its respecting index classification label to the 'label' dataset\n",
        "        # images and labels are appended together so the index is kept consistent between the two datasets.  \n",
        "        if  re.match('.*canola*', file):\n",
        "                 for i in range (0,how_many):\n",
        "                    images.append(img_set[i])\n",
        "                    labels.append(0)\n",
        "                               \n",
        "        elif re.match('.*clover*', file):\n",
        "                 for i in range (0,how_many):\n",
        "                       images.append(img_set[i])\n",
        "                       labels.append(1)\n",
        "                    \n",
        "        elif re.match('.*triticale*', file):\n",
        "                 for i in range (0,how_many):\n",
        "                        images.append(img_set[i])\n",
        "                        labels.append(2)\n",
        "                  \n",
        "        elif re.match('.*pea*', file) or re.match('.*Pea*', file):\n",
        "                for i in range (0,how_many):\n",
        "                       images.append(img_set[i])\n",
        "                       labels.append(3)\n",
        "                  \n",
        "        elif re.match('.*2Spp*', file):\n",
        "                for i in range (0,how_many):\n",
        "                       images.append(img_set[i])\n",
        "                       labels.append(4)\n",
        "                  \n",
        "        elif re.match('.*3SppN+', file):\n",
        "                for i in range (0,how_many):\n",
        "                       images.append(img_set[i])\n",
        "                       labels.append(5)\n",
        "                \n",
        "        elif re.match('.*3SppM-*', file):\n",
        "                for i in range (0,how_many):\n",
        "                       images.append(img_set[i])\n",
        "                       labels.append(6)\n",
        "                  \n",
        "        elif re.match('.*5Spp*', file):\n",
        "                for i in range (0,how_many):\n",
        "                       images.append(img_set[i])\n",
        "                       labels.append(7)          \n",
        "        \n",
        "        elif re.match('.*6Spp*', file):\n",
        "                for i in range (0,how_many):\n",
        "                       images.append(img_set[i])\n",
        "                       labels.append(8)\n",
        "                  \n",
        "       # same as above section, was made to account for images with the lowercase '.jpg' extension         \n",
        "  for file in glob.glob(\"*.jpg\"):\n",
        "    \n",
        "        img_A, img_B, img_C, img_D, img_E, img_F, img_G, img_H, img_I, img_J, img_K, img_L, img_M, img_N, img_O, img_P= image_division (file, photo_size)\n",
        "        img_set = [img_A, img_B, img_C, img_D, img_E, img_F, img_G, img_H, img_I, img_J, img_K, img_L, img_M, img_N, img_O, img_P]\n",
        "        how_many = len(img_set)\n",
        "          \n",
        "        if re.match('.*canola*', file):\n",
        "                 for i in range (0,how_many):\n",
        "                    images.append(img_set[i])\n",
        "                    labels.append(0)\n",
        "                               \n",
        "        elif re.match('.*clover*', file):\n",
        "                 for i in range (0,how_many):\n",
        "                       images.append(img_set[i])\n",
        "                       labels.append(1)\n",
        "                    \n",
        "        elif re.match('.*triticale*', file):\n",
        "                 for i in range (0,how_many):\n",
        "                        images.append(img_set[i])\n",
        "                        labels.append(2)\n",
        "                  \n",
        "        elif re.match('.*pea*', file) or re.match('.*Pea*', file):\n",
        "                for i in range (0,how_many):\n",
        "                       images.append(img_set[i])\n",
        "                       labels.append(3)\n",
        "                  \n",
        "        elif re.match('.*2Spp*', file):\n",
        "                for i in range (0,how_many):\n",
        "                       images.append(img_set[i])\n",
        "                       labels.append(4)\n",
        "                  \n",
        "        elif re.match('.*3SppN+', file):\n",
        "                for i in range (0,how_many):\n",
        "                       images.append(img_set[i])\n",
        "                       labels.append(5)\n",
        "                \n",
        "        elif re.match('.*3SppM-*', file):\n",
        "                for i in range (0,how_many):\n",
        "                       images.append(img_set[i])\n",
        "                       labels.append(6)\n",
        "                  \n",
        "        elif re.match('.*5Spp*', file):\n",
        "                for i in range (0,how_many):\n",
        "                       images.append(img_set[i])\n",
        "                       labels.append(7)          \n",
        "        \n",
        "        elif re.match('.*6Spp*', file):\n",
        "                for i in range (0,how_many):\n",
        "                       images.append(img_set[i])\n",
        "                       labels.append(8)\n",
        "                \n",
        "  return (np.asarray(images), np.asarray(labels))"
      ],
      "execution_count": 0,
      "outputs": []
    },
    {
      "cell_type": "code",
      "metadata": {
        "id": "MGTnrD-Vx9OM",
        "colab_type": "code",
        "colab": {}
      },
      "source": [
        "# Define a function that shuffles np arrays in unison to keep image and label index consistent:\n",
        "def unison_shuffled_copies(I, L):\n",
        "    assert len(I) == len(L)\n",
        "    p = np.random.permutation(len(I))\n",
        "    return I[p], L[p]"
      ],
      "execution_count": 0,
      "outputs": []
    },
    {
      "cell_type": "markdown",
      "metadata": {
        "id": "-TcKUosQvys9",
        "colab_type": "text"
      },
      "source": [
        "##Define image size and conduct dataset creation "
      ]
    },
    {
      "cell_type": "code",
      "metadata": {
        "id": "k4q3ZHtuMNxM",
        "colab_type": "code",
        "outputId": "265637b4-3517-4de2-fbef-6e27a54af84b",
        "colab": {
          "base_uri": "https://localhost:8080/"
        }
      },
      "source": [
        "# image pixel resolution used to train and test model\n",
        "a=PIXEL_resolution\n",
        "photo_size= a, a\n",
        "%cd /content"
      ],
      "execution_count": 0,
      "outputs": [
        {
          "output_type": "stream",
          "text": [
            "/content\n"
          ],
          "name": "stdout"
        }
      ]
    },
    {
      "cell_type": "markdown",
      "metadata": {
        "id": "P5vIQVaApgsK",
        "colab_type": "text"
      },
      "source": [
        " speciescategories or labels are indexed as following: \n",
        "Canola:0 \n",
        "Clover:1 \n",
        "Triticale:2 \n",
        "\n",
        "*   Canola : 0\n",
        "*   Clover : 1\n",
        "* Triticale : 2\n",
        "*Pea : 3\n",
        "*2 spp : 4\n",
        "*3 spp-N : 5\n",
        "* 3 spp-M : 6\n",
        "*5 spp : 7\n",
        "*6 spp : 8\n",
        "\n",
        "\n",
        "\n"
      ]
    },
    {
      "cell_type": "code",
      "metadata": {
        "id": "h9MhhO22iTWB",
        "colab_type": "code",
        "outputId": "50c44f47-99d9-4a40-b65d-60dfa117d351",
        "colab": {
          "base_uri": "https://localhost:8080/"
        }
      },
      "source": [
        "\n",
        "\n",
        "CATEGORIES = ['Canola', 'Clover', 'Triticale', 'Pea', '2 Spp' , '3 Spp-N', '3 Spp-M', '5 Spp', '6 Spp']\n",
        "category_to_index = dict((name, index) for index,name in enumerate (CATEGORIES))\n",
        "category_to_index\n"
      ],
      "execution_count": 0,
      "outputs": [
        {
          "output_type": "execute_result",
          "data": {
            "text/plain": [
              "{'2 Spp': 4,\n",
              " '3 Spp-M': 6,\n",
              " '3 Spp-N': 5,\n",
              " '5 Spp': 7,\n",
              " '6 Spp': 8,\n",
              " 'Canola': 0,\n",
              " 'Clover': 1,\n",
              " 'Pea': 3,\n",
              " 'Triticale': 2}"
            ]
          },
          "metadata": {
            "tags": []
          },
          "execution_count": 16
        }
      ]
    },
    {
      "cell_type": "code",
      "metadata": {
        "id": "jq44ggjkugpH",
        "colab_type": "code",
        "colab": {}
      },
      "source": [
        "## load training and test data into numpy aarrays by executing these functions: directory path is changed back to root before each function is executed:\n",
        "\n",
        "(images, labels) = maximize_image_dataset('/content/gdrive/My Drive/Cover Crop species data /HALF SPECIES DATA',photo_size)\n"
      ],
      "execution_count": 0,
      "outputs": []
    },
    {
      "cell_type": "code",
      "metadata": {
        "id": "WZWwTN-Vs65g",
        "colab_type": "code",
        "outputId": "043b75db-45cc-43b3-ad1c-0f23b28af455",
        "colab": {
          "base_uri": "https://localhost:8080/"
        }
      },
      "source": [
        "print(len(images))\n",
        "print(len(labels))\n",
        "print (images.shape)\n"
      ],
      "execution_count": 0,
      "outputs": [
        {
          "output_type": "stream",
          "text": [
            "2592\n",
            "2592\n",
            "(2592, 16, 16, 3)\n"
          ],
          "name": "stdout"
        }
      ]
    },
    {
      "cell_type": "code",
      "metadata": {
        "id": "-r6kBBsyG0eQ",
        "colab_type": "code",
        "outputId": "f97e4d50-0f2d-42a2-c42e-287434b07211",
        "colab": {
          "base_uri": "https://localhost:8080/"
        }
      },
      "source": [
        "unique, counts = np.unique(labels, return_counts=True)\n",
        "dict(zip(unique, counts/16))"
      ],
      "execution_count": 0,
      "outputs": [
        {
          "output_type": "execute_result",
          "data": {
            "text/plain": [
              "{0: 19.0,\n",
              " 1: 18.0,\n",
              " 2: 20.0,\n",
              " 3: 13.0,\n",
              " 4: 19.0,\n",
              " 5: 19.0,\n",
              " 6: 20.0,\n",
              " 7: 14.0,\n",
              " 8: 20.0}"
            ]
          },
          "metadata": {
            "tags": []
          },
          "execution_count": 19
        }
      ]
    },
    {
      "cell_type": "markdown",
      "metadata": {
        "id": "jOOxHMUBNGx7",
        "colab_type": "text"
      },
      "source": [
        "randomly shuffle image and label data arrays, consistent with eachother. "
      ]
    },
    {
      "cell_type": "code",
      "metadata": {
        "id": "PQ1i4eeYzDNb",
        "colab_type": "code",
        "outputId": "caf2b32d-4014-4cb2-c72d-5b19d234a9f3",
        "colab": {
          "base_uri": "https://localhost:8080/"
        }
      },
      "source": [
        "print('Original order of images/labels: \\n' ,  labels)\n",
        "images, labels = unison_shuffled_copies(images, labels)\n",
        "print ()\n",
        "print('Shuffled order of images/labels: \\n' , labels)"
      ],
      "execution_count": 0,
      "outputs": [
        {
          "output_type": "stream",
          "text": [
            "Original order of images/labels: \n",
            " [1 1 1 ... 7 7 7]\n",
            "\n",
            "Shuffled order of images/labels: \n",
            " [3 7 4 ... 7 7 1]\n"
          ],
          "name": "stdout"
        }
      ]
    },
    {
      "cell_type": "markdown",
      "metadata": {
        "id": "mjlt6l0R5qPT",
        "colab_type": "text"
      },
      "source": [
        "Seperate the full array of images and labels into 90% training data and 10% validation data "
      ]
    },
    {
      "cell_type": "code",
      "metadata": {
        "id": "FInJ43uw7zPF",
        "colab_type": "code",
        "colab": {}
      },
      "source": [
        "## normalize the data\n",
        "images=images/255.0\n"
      ],
      "execution_count": 0,
      "outputs": []
    },
    {
      "cell_type": "markdown",
      "metadata": {
        "colab_type": "text",
        "id": "AzHYisNZtYCZ"
      },
      "source": [
        "## Validating and displaying original datasets "
      ]
    },
    {
      "cell_type": "code",
      "metadata": {
        "colab_type": "code",
        "id": "5kWgZECftYCs",
        "outputId": "0f3cb14e-12d7-4b17-e28b-99309d351f6b",
        "colab": {
          "base_uri": "https://localhost:8080/"
        }
      },
      "source": [
        "print(labels)"
      ],
      "execution_count": 0,
      "outputs": [
        {
          "output_type": "stream",
          "text": [
            "[3 7 4 ... 7 7 1]\n"
          ],
          "name": "stdout"
        }
      ]
    },
    {
      "cell_type": "code",
      "metadata": {
        "colab_type": "code",
        "id": "TPUZFy3atYCx",
        "colab": {}
      },
      "source": [
        "def display_images(images, labels):\n",
        "        plt.figure(figsize=(15,15))\n",
        "        grid_size = min(16, len(images))\n",
        "        for i in range(grid_size):\n",
        "                plt.subplot(4, 4, i+1)\n",
        "                plt.xticks([])\n",
        "                plt.yticks([])\n",
        "                plt.grid(False)\n",
        "                plt.imshow(images[i], cmap=plt.cm.binary)\n",
        "                plt.xlabel(CATEGORIES[labels[i]])"
      ],
      "execution_count": 0,
      "outputs": []
    },
    {
      "cell_type": "code",
      "metadata": {
        "colab_type": "code",
        "id": "KTWcJm3BtYC5",
        "outputId": "c6726ac3-72a2-49f6-c34a-4cbbb322553f",
        "colab": {
          "base_uri": "https://localhost:8080/"
        }
      },
      "source": [
        "display_images(images, labels)\n",
        "plt.show()"
      ],
      "execution_count": 0,
      "outputs": [
        {
          "output_type": "display_data",
          "data": {
            "image/png": "[encoded data removed]",
            "text/plain": [
              "<Figure size 1080x1080 with 16 Axes>"
            ]
          },
          "metadata": {
            "tags": []
          }
        }
      ]
    },
    {
      "cell_type": "code",
      "metadata": {
        "colab_type": "code",
        "id": "uNDb2_sRtYC9",
        "outputId": "30f7dc2d-bbfb-410b-b455-cdf83a05d525",
        "colab": {
          "base_uri": "https://localhost:8080/"
        }
      },
      "source": [
        "subtitle = 112\n",
        "plt.figure()\n",
        "plt.imshow(images[subtitle], cmap=plt.cm.binary)\n",
        "plt.colorbar()\n",
        "plt.grid(False)\n",
        "plt.xlabel(CATEGORIES[labels[subtitle]])"
      ],
      "execution_count": 0,
      "outputs": [
        {
          "output_type": "execute_result",
          "data": {
            "text/plain": [
              "Text(0.5, 0, '2 Spp')"
            ]
          },
          "metadata": {
            "tags": []
          },
          "execution_count": 25
        },
        {
          "output_type": "display_data",
          "data": {
            "image/png": "[encoded data removed]",
            "text/plain": [
              "<Figure size 432x288 with 2 Axes>"
            ]
          },
          "metadata": {
            "tags": []
          }
        }
      ]
    },
    {
      "cell_type": "markdown",
      "metadata": {
        "colab_type": "text",
        "id": "dFoDlLIMtYDN"
      },
      "source": [
        "#Building the ML model:"
      ]
    },
    {
      "cell_type": "markdown",
      "metadata": {
        "colab_type": "text",
        "id": "an8tvDfytYDP"
      },
      "source": [
        "**Initiialize the model layers:**"
      ]
    },
    {
      "cell_type": "markdown",
      "metadata": {
        "id": "225LHch7XfRY",
        "colab_type": "text"
      },
      "source": [
        "### Different model builds:"
      ]
    },
    {
      "cell_type": "code",
      "metadata": {
        "id": "4xhJY5dvn-uh",
        "colab_type": "code",
        "colab": {}
      },
      "source": [
        "def my_newCNN(input_shape, num_classes):\n",
        "  model= tf.keras.Sequential()\n",
        "  \n",
        "  model.add(keras.layers.Conv2D(filters=32, kernel_size=3,padding='same', activation= 'relu', input_shape=input_shape))\n",
        "  model.add(keras.layers.MaxPooling2D(pool_size=(2,2)))\n",
        "  model.add(tf.keras.layers.Dropout(0.25))\n",
        "  \n",
        "  model.add(keras.layers.Conv2D(filters=64,kernel_size=(3,3),padding='same', activation=tf.nn.relu))\n",
        "  model.add(keras.layers.MaxPooling2D(pool_size=(2,2)))\n",
        "  model.add(tf.keras.layers.Dropout(0.3))\n",
        "  \n",
        "  model.add(keras.layers.Conv2D(filters=64,kernel_size=(3,3),padding='same', activation=tf.nn.relu))\n",
        "  model.add(keras.layers.MaxPooling2D(pool_size=(2,2)))\n",
        "  model.add(tf.keras.layers.Dropout(0.5))\n",
        "  \n",
        "  \n",
        "  model.add(keras.layers.Conv2D(filters=128,kernel_size=(3,3),padding='same', activation=tf.nn.relu))\n",
        "  model.add(keras.layers.MaxPooling2D(pool_size=(2,2)))\n",
        "  model.add(tf.keras.layers.Dropout(0.5))\n",
        "  \n",
        "  model.add(keras.layers.Flatten())\n",
        "\n",
        "  \n",
        "  model.add(keras.layers.Dense(128,activation=tf.nn.relu))\n",
        "  model.add(tf.keras.layers.Dropout(0.5))\n",
        "  \n",
        "\n",
        "  \n",
        "  model.add(keras.layers.Dense(num_classes, activation=tf.nn.sigmoid))\n",
        "  \n",
        "  return model"
      ],
      "execution_count": 0,
      "outputs": []
    },
    {
      "cell_type": "code",
      "metadata": {
        "id": "U1MtoF69WldT",
        "colab_type": "code",
        "colab": {}
      },
      "source": [
        "def my_VGG_CNN(input_shape, num_classes):\n",
        "  model= tf.keras.Sequential()\n",
        "  \n",
        "  model.add(keras.layers.Conv2D(filters=32, kernel_size=3,padding='same', activation= 'relu', input_shape=input_shape))\n",
        "    \n",
        "  model.add(keras.layers.Conv2D(filters=64,kernel_size=(3,3),padding='same', activation=tf.nn.relu))\n",
        "  \n",
        "  model.add(keras.layers.MaxPooling2D(pool_size=(2,2)))\n",
        "  model.add(tf.keras.layers.Dropout(0.5))\n",
        "  \n",
        "  model.add(keras.layers.Conv2D(filters=32,kernel_size=(3,3),padding='same', activation=tf.nn.relu))\n",
        "  \n",
        "  model.add(keras.layers.Conv2D(filters=64,kernel_size=(3,3),padding='same', activation=tf.nn.relu))\n",
        "    \n",
        "  model.add(keras.layers.Conv2D(filters=64,kernel_size=(3,3),padding='same', activation=tf.nn.relu))\n",
        "  \n",
        "  model.add(keras.layers.MaxPooling2D(pool_size=(2,2)))\n",
        "  model.add(tf.keras.layers.Dropout(0.5))\n",
        "  \n",
        "  \n",
        "  model.add(keras.layers.Conv2D(filters=32,kernel_size=(3,3),padding='same', activation=tf.nn.relu))\n",
        "  \n",
        "  model.add(keras.layers.Conv2D(filters=64,kernel_size=(3,3),padding='same', activation=tf.nn.relu))\n",
        "    \n",
        "  model.add(keras.layers.Conv2D(filters=64,kernel_size=(3,3),padding='same', activation=tf.nn.relu))\n",
        "  \n",
        "  model.add(keras.layers.MaxPooling2D(pool_size=(2,2)))\n",
        "  model.add(tf.keras.layers.Dropout(0.5))\n",
        "  \n",
        "  \n",
        "  model.add(keras.layers.Flatten())\n",
        "  model.add(keras.layers.Dense(128,activation=tf.nn.relu))\n",
        "  model.add(tf.keras.layers.Dropout(0.5))\n",
        "  model.add(keras.layers.Dense(num_classes, activation=tf.nn.sigmoid))\n",
        "  \n",
        "  return model"
      ],
      "execution_count": 0,
      "outputs": []
    },
    {
      "cell_type": "code",
      "metadata": {
        "id": "gCNaBQAI82NN",
        "colab_type": "code",
        "colab": {}
      },
      "source": [
        "\n",
        "CCClassify_ORF_outIII = my_newCNN((a,a,3),9)\n",
        "CCClassify_ORF_outIV = my_VGG_CNN((a,a,3),9)"
      ],
      "execution_count": 0,
      "outputs": []
    },
    {
      "cell_type": "markdown",
      "metadata": {
        "colab_type": "text",
        "id": "5uWBbwqztYDw"
      },
      "source": [
        "**Compile the model:**"
      ]
    },
    {
      "cell_type": "code",
      "metadata": {
        "id": "SIT0LWw8XzN3",
        "colab_type": "code",
        "colab": {}
      },
      "source": [
        "\n",
        "# which model will be tested \n",
        "run_model = CCClassify_ORF_outIV\n"
      ],
      "execution_count": 0,
      "outputs": []
    },
    {
      "cell_type": "code",
      "metadata": {
        "colab_type": "code",
        "id": "otyLuySPtYEC",
        "colab": {}
      },
      "source": [
        "run_model.compile(optimizer='adam', \n",
        "              loss='sparse_categorical_crossentropy',\n",
        "              metrics=['accuracy'])"
      ],
      "execution_count": 0,
      "outputs": []
    },
    {
      "cell_type": "markdown",
      "metadata": {
        "id": "CeLDoQu9Y4QM",
        "colab_type": "text"
      },
      "source": [
        "### Training :"
      ]
    },
    {
      "cell_type": "code",
      "metadata": {
        "colab_type": "code",
        "id": "TiNaTgL9tYEV",
        "colab": {}
      },
      "source": [
        "history=run_model.fit(images,labels, validation_split=0.10, batch_size= 64, shuffle=True, epochs =125)"
      ],
      "execution_count": 0,
      "outputs": []
    },
    {
      "cell_type": "markdown",
      "metadata": {
        "id": "PpSF6dduYPpb",
        "colab_type": "text"
      },
      "source": [
        "### Plot Training Results:"
      ]
    },
    {
      "cell_type": "code",
      "metadata": {
        "id": "qMsY0rrCWJLh",
        "colab_type": "code",
        "colab": {}
      },
      "source": [
        "\n",
        "plt.style.use('dark_background')\n",
        "# Plot training & validation accuracy values\n",
        "plt.plot(history.history['acc'],'y--',history.history['val_acc'],'r--')\n",
        "plt.title('Model accuracy')\n",
        "plt.ylabel('Accuracy')\n",
        "plt.xlabel('Epoch')\n",
        "plt.legend(['Train', 'Test'], loc='upper left')\n",
        "plt.grid()\n",
        "plt.show()\n",
        "\n",
        "# Plot training & validation loss values\n",
        "plt.plot(history.history['loss'],'y--',history.history['val_loss'],'r--')\n",
        "plt.title('Model loss')\n",
        "plt.ylabel('Loss')\n",
        "plt.xlabel('Epoch')\n",
        "plt.legend(['Train', 'Test'], loc='upper right')\n",
        "plt.grid()\n",
        "plt.show()"
      ],
      "execution_count": 0,
      "outputs": []
    },
    {
      "cell_type": "code",
      "metadata": {
        "id": "sZM9RgYgsw2H",
        "colab_type": "code",
        "outputId": "4435ad8d-29e0-4df1-ad3d-3d23a005a5b2",
        "colab": {
          "base_uri": "https://localhost:8080/",
          "height": 34
        }
      },
      "source": [
        "run_model.summary"
      ],
      "execution_count": 0,
      "outputs": [
        {
          "output_type": "execute_result",
          "data": {
            "text/plain": [
              "<bound method Network.summary of <tensorflow.python.keras.engine.sequential.Sequential object at 0x7f34018c6630>>"
            ]
          },
          "metadata": {
            "tags": []
          },
          "execution_count": 33
        }
      ]
    },
    {
      "cell_type": "markdown",
      "metadata": {
        "id": "ase4vfgidDpx",
        "colab_type": "text"
      },
      "source": [
        "#Saving the Model(s)"
      ]
    },
    {
      "cell_type": "code",
      "metadata": {
        "id": "EiegehsExm7D",
        "colab_type": "code",
        "outputId": "0d083336-a9ab-4ecb-ad5f-4d88f419672c",
        "colab": {
          "base_uri": "https://localhost:8080/",
          "height": 129
        }
      },
      "source": [
        "#tf.keras.models.save_model(\n",
        "   CCClassify_ORF_out,\n",
        "  '/content/gdrive/My Drive/CCClassify_ORF_out',\n",
        "   overwrite=True,\n",
        "    include_optimizer=True,\n",
        "    save_format=None\n",
        ")"
      ],
      "execution_count": 0,
      "outputs": [
        {
          "output_type": "error",
          "ename": "IndentationError",
          "evalue": "ignored",
          "traceback": [
            "\u001b[0;36m  File \u001b[0;32m\"<ipython-input-34-be4f9a1fce91>\"\u001b[0;36m, line \u001b[0;32m2\u001b[0m\n\u001b[0;31m    '/content/gdrive/My Drive/CCClassify_ORF_out',\u001b[0m\n\u001b[0m    ^\u001b[0m\n\u001b[0;31mIndentationError\u001b[0m\u001b[0;31m:\u001b[0m unexpected indent\n"
          ]
        }
      ]
    },
    {
      "cell_type": "code",
      "metadata": {
        "id": "UJy2Nib6_A5h",
        "colab_type": "code",
        "colab": {}
      },
      "source": [
        ""
      ],
      "execution_count": 0,
      "outputs": []
    }
  ]
}